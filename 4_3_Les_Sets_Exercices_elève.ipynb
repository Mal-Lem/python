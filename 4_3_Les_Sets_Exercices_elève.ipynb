{
  "cells": [
    {
      "cell_type": "markdown",
      "metadata": {
        "id": "view-in-github",
        "colab_type": "text"
      },
      "source": [
        "<a href=\"https://colab.research.google.com/github/Mal-Lem/python/blob/main/4_3_Les_Sets_Exercices_el%C3%A8ve.ipynb\" target=\"_parent\"><img src=\"https://colab.research.google.com/assets/colab-badge.svg\" alt=\"Open In Colab\"/></a>"
      ]
    },
    {
      "cell_type": "markdown",
      "id": "8530f567",
      "metadata": {
        "id": "8530f567"
      },
      "source": [
        "<h1> Exercice 1 </h1>\n",
        "\n",
        "Vous êtes en charge de la création d'un système pour gérer un club de lecture. Ce club a besoin de garder une trace des différents genres de livres lus par ses membres au cours de l'année.\n",
        "\n",
        "\n",
        "1) Création d'un Set de Genres\n",
        "\n",
        "- Créez un set vide nommé genres_lus.\n",
        "- Ajoutez les genres \"Fantaisie\", \"Science-Fiction\" et \"Policier\" dans le set.\n",
        "\n",
        "2) Ajout de Nouveaux Genres\n",
        "- Un membre lit un livre de \"Romance\". Ajoutez ce genre au set genres_lus.\n",
        "- Un autre membre lit un autre livre de \"Fantaisie\". Essayez d'ajouter \"Fantaisie\" à nouveau et expliquez le résultat obtenu en commentaire\n",
        "\n",
        "3) Suppression d'un Genre\n",
        "\n",
        "Le club décide de ne plus inclure les livres de genre \"Policier\" dans ses activités. Retirez ce genre du set genres_lus."
      ]
    },
    {
      "cell_type": "code",
      "execution_count": 5,
      "id": "3cb0b613",
      "metadata": {
        "id": "3cb0b613"
      },
      "outputs": [],
      "source": [
        "genres_lus = set()\n",
        "genres_lus.add(\"Fantaisie\")\n",
        "genres_lus.add(\"Science-Fiction\")\n",
        "genres_lus.add(\"Policier\")"
      ]
    },
    {
      "cell_type": "code",
      "execution_count": 6,
      "id": "5633f758",
      "metadata": {
        "id": "5633f758"
      },
      "outputs": [],
      "source": [
        "genres_lus.add(\"Romance\")"
      ]
    },
    {
      "cell_type": "code",
      "execution_count": 8,
      "id": "61e5971e",
      "metadata": {
        "colab": {
          "base_uri": "https://localhost:8080/"
        },
        "id": "61e5971e",
        "outputId": "f972c4f2-2c5e-4ce8-e048-957895da5f5e"
      },
      "outputs": [
        {
          "output_type": "stream",
          "name": "stdout",
          "text": [
            "{'Fantaisie', 'Policier', 'Science-Fiction', 'Romance'}\n"
          ]
        }
      ],
      "source": [
        "genres_lus.add(\"Fantaisie\")\n",
        "print(genres_lus)"
      ]
    },
    {
      "cell_type": "code",
      "execution_count": 9,
      "id": "e81408c2",
      "metadata": {
        "colab": {
          "base_uri": "https://localhost:8080/"
        },
        "id": "e81408c2",
        "outputId": "b73774b2-aa80-4ec9-8520-8cc42c3b0e6c"
      },
      "outputs": [
        {
          "output_type": "stream",
          "name": "stdout",
          "text": [
            "{'Fantaisie', 'Science-Fiction', 'Romance'}\n"
          ]
        }
      ],
      "source": [
        "genres_lus.remove(\"Policier\")\n",
        "print(genres_lus)"
      ]
    },
    {
      "cell_type": "markdown",
      "id": "1b676089",
      "metadata": {
        "id": "1b676089"
      },
      "source": [
        "<h1>Exercice 2</h1>\n",
        "\n",
        "Vous travaillez sur un système de gestion pour un club sportif. Ce club propose différentes activités et vous devez gérer les adhésions à ces activités. Chaque activité a son propre ensemble de membres.\n",
        "Le club propose trois activités : Natation, Tennis et Course à pied.\n",
        "\n",
        "\n",
        "1) Trouver les Membres Communs et Uniques\n",
        "\n",
        "- Déterminez les membres qui pratiquent à la fois la Natation et le Tennis.\n",
        "- Trouvez les membres qui pratiquent uniquement la Course à pied, mais ni la Natation ni le Tennis.\n",
        "\n",
        "2) Ajout d'une Nouvelle Activité\n",
        "\n",
        "- Une nouvelle activité, le Yoga, est ajoutée avec les membres suivants : {\"Léa\", \"Gabriel\", \"Emma\"}. Déclarez là\n",
        "- Déterminez tous les membres du club peu importe leur sport, y compris ceux pratiquant le Yoga.\n"
      ]
    },
    {
      "cell_type": "code",
      "execution_count": 11,
      "id": "dc6edebc",
      "metadata": {
        "id": "dc6edebc"
      },
      "outputs": [],
      "source": [
        "natation = {\"Emma\", \"Lucas\", \"Zoé\", \"Léo\"}\n",
        "tennis = {\"Hugo\", \"Emma\", \"Jade\", \"Léo\"}\n",
        "course = {\"Lucas\", \"Jade\", \"Gabriel\", \"Chloé\"}"
      ]
    },
    {
      "cell_type": "code",
      "execution_count": 15,
      "id": "d2e26750",
      "metadata": {
        "colab": {
          "base_uri": "https://localhost:8080/"
        },
        "id": "d2e26750",
        "outputId": "dd1d1a6c-8591-48a0-bdaa-5020579b35d7"
      },
      "outputs": [
        {
          "output_type": "stream",
          "name": "stdout",
          "text": [
            "2\n"
          ]
        }
      ],
      "source": [
        "natation_tenis = natation.intersection(tennis)\n",
        "print(len(natation_tenis))"
      ]
    },
    {
      "cell_type": "code",
      "source": [
        "course_unique = course.difference(natation.union(tennis))\n",
        "print(len(course_unique))"
      ],
      "metadata": {
        "colab": {
          "base_uri": "https://localhost:8080/"
        },
        "id": "jDZrL6c8KKg-",
        "outputId": "d61fd2ee-002b-42bb-ed63-1567fe5bb218"
      },
      "id": "jDZrL6c8KKg-",
      "execution_count": 16,
      "outputs": [
        {
          "output_type": "stream",
          "name": "stdout",
          "text": [
            "2\n"
          ]
        }
      ]
    },
    {
      "cell_type": "code",
      "execution_count": 19,
      "id": "26f1c18e",
      "metadata": {
        "colab": {
          "base_uri": "https://localhost:8080/"
        },
        "id": "26f1c18e",
        "outputId": "44f0325f-b307-49a2-ecb2-c06e9059e08e"
      },
      "outputs": [
        {
          "output_type": "stream",
          "name": "stdout",
          "text": [
            "9\n"
          ]
        }
      ],
      "source": [
        "yoga = {\"Léa\",\"Gabriel\",\"Emma\"}\n",
        "membres = natation.union(tennis).union(course).union(yoga)\n",
        "print(len(membres))"
      ]
    },
    {
      "cell_type": "markdown",
      "id": "16a5dc90",
      "metadata": {
        "id": "16a5dc90"
      },
      "source": [
        "<h1> Exercice 3 </h1>\n",
        "\n",
        "Vous travaillez sur un système pour une agence de voyage, qui propose différents forfaits de voyage. Chaque forfait est défini par un ensemble d'activités. Vous devez gérer ces forfaits et les préférences des clients.\n",
        "\n",
        "1) Vérifiez si le Forfait Détente correspond aux intérêts du Client 1.\n",
        "2) Vérifiez si le Client 2 peut être satisfait avec le Forfait Aventure.\n",
        "3) L'agence reçoit une liste d'activités suggérées par les clients avec des doublons : [\"Spa\", \"Parachutisme\", \"Yoga\", \"Parachutisme\", \"Randonnée\"]. Créez une liste dédupliquée de ces activités pour considérer de futures mises à jour des forfaits.\n"
      ]
    },
    {
      "cell_type": "code",
      "execution_count": 21,
      "id": "e5bf3c07",
      "metadata": {
        "id": "e5bf3c07"
      },
      "outputs": [],
      "source": [
        "forfait_aventure = {\"Randonnée\", \"Rafting\", \"Parachutisme\"}\n",
        "forfait_detente = {\"Yoga\", \"Spa\", \"Méditation\", \"Randonnée\"}\n",
        "preferences_client_1 = {\"Yoga\", \"Méditation\"}\n",
        "preferences_client_2 = {\"Rafting\", \"Parachutisme\", \"Randonnée\"}"
      ]
    },
    {
      "cell_type": "code",
      "execution_count": 22,
      "id": "04965807",
      "metadata": {
        "colab": {
          "base_uri": "https://localhost:8080/"
        },
        "id": "04965807",
        "outputId": "09f91fde-f34d-43dc-a75b-49b69f59630e"
      },
      "outputs": [
        {
          "output_type": "execute_result",
          "data": {
            "text/plain": [
              "True"
            ]
          },
          "metadata": {},
          "execution_count": 22
        }
      ],
      "source": [
        "preferences_client_1.issubset(forfait_detente)"
      ]
    },
    {
      "cell_type": "code",
      "source": [
        "preferences_client_2.issubset(forfait_aventure)"
      ],
      "metadata": {
        "colab": {
          "base_uri": "https://localhost:8080/"
        },
        "id": "DhT_kbSPLIgw",
        "outputId": "cc5fb306-bc37-4811-8322-10c92df672fb"
      },
      "id": "DhT_kbSPLIgw",
      "execution_count": 23,
      "outputs": [
        {
          "output_type": "execute_result",
          "data": {
            "text/plain": [
              "True"
            ]
          },
          "metadata": {},
          "execution_count": 23
        }
      ]
    },
    {
      "cell_type": "code",
      "source": [
        "liste_activites = [\"Spa\", \"Parachutisme\", \"Yoga\", \"Parachutisme\", \"Randonnée\"]\n",
        "liste_activites_unique = set(liste_activites)\n",
        "print(liste_activites_unique)"
      ],
      "metadata": {
        "colab": {
          "base_uri": "https://localhost:8080/"
        },
        "id": "qTi32Jw7LWEm",
        "outputId": "12c60a5a-a4fb-4b60-d6cc-dad807739de9"
      },
      "id": "qTi32Jw7LWEm",
      "execution_count": 24,
      "outputs": [
        {
          "output_type": "stream",
          "name": "stdout",
          "text": [
            "{'Parachutisme', 'Yoga', 'Randonnée', 'Spa'}\n"
          ]
        }
      ]
    }
  ],
  "metadata": {
    "kernelspec": {
      "display_name": "Python 3 (ipykernel)",
      "language": "python",
      "name": "python3"
    },
    "language_info": {
      "codemirror_mode": {
        "name": "ipython",
        "version": 3
      },
      "file_extension": ".py",
      "mimetype": "text/x-python",
      "name": "python",
      "nbconvert_exporter": "python",
      "pygments_lexer": "ipython3",
      "version": "3.11.5"
    },
    "colab": {
      "provenance": [],
      "include_colab_link": true
    }
  },
  "nbformat": 4,
  "nbformat_minor": 5
}