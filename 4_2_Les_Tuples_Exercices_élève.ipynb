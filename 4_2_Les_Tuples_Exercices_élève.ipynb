{
  "cells": [
    {
      "cell_type": "markdown",
      "metadata": {
        "id": "view-in-github",
        "colab_type": "text"
      },
      "source": [
        "<a href=\"https://colab.research.google.com/github/Mal-Lem/python/blob/main/4_2_Les_Tuples_Exercices_%C3%A9l%C3%A8ve.ipynb\" target=\"_parent\"><img src=\"https://colab.research.google.com/assets/colab-badge.svg\" alt=\"Open In Colab\"/></a>"
      ]
    },
    {
      "cell_type": "markdown",
      "id": "b5b10d4e",
      "metadata": {
        "id": "b5b10d4e"
      },
      "source": [
        "<h1> Exercice 1 </h1>\n",
        "\n",
        "Vous êtes en charge d'un programme qui doit gérer les informations des étudiants d'une école. Les données de chaque étudiant sont stockées sous la forme d'un tuple contenant le nom de l'étudiant, son âge et sa moyenne générale.\n",
        "\n",
        "1) Création des Tuples\n",
        "\n",
        "Créez trois tuples pour trois étudiants (format \"(nom, age, moyenne)\") :\n",
        "- Alice, 20 ans, moyenne de 15.5\n",
        "- Bob, 22 ans, moyenne de 14.0\n",
        "- Clara, 19 ans, moyenne de 16.2\n",
        "\n",
        "Stockez ces 3 tuples dans une liste nommée etudiants\n",
        "\n",
        "2) récuppération d'informations\n",
        "\n",
        "- Affichez les informations du dernier étudiant de la liste\n",
        "- Affichez la moyenne du premier étudiant de la liste\n",
        "- Récupérez et affichez le nom, l'age et la moyenne du deuxième étudiant (Bob) dans les varaibles nom, age, moyenne et cel en une seule ligne\n",
        "\n",
        "3) ajout d'un étudiant\n",
        "\n",
        "Un nouvel étudiant, David, 21 ans avec une moyenne de 15.0, arrive. Ajoutez ses informations dans la liste etudiants.\n",
        "\n",
        "4) calcul de la moyenne des étudiants\n",
        "\n",
        "- Créez un nouveau Tuple \"Moyenne\" qui contiendra les moyennes de tous les étudiants (à vous d'aller les récupérer dans le tuple \"etudiants\" existants\n",
        "- Calculez la moyenne des étudiants via les méthodes summ et len"
      ]
    },
    {
      "cell_type": "code",
      "execution_count": 2,
      "id": "8309083d",
      "metadata": {
        "id": "8309083d"
      },
      "outputs": [],
      "source": [
        "t1 =  (\"alice\",20,15.5)\n",
        "t2 =  (\"bob\",22,14.0)\n",
        "t3 =  (\"clara\",19,16.2)\n",
        "etudiants = [t1,t2,t3]"
      ]
    },
    {
      "cell_type": "code",
      "execution_count": 3,
      "id": "8fac8e00",
      "metadata": {
        "colab": {
          "base_uri": "https://localhost:8080/"
        },
        "id": "8fac8e00",
        "outputId": "e2a12876-add2-4b43-afd3-586da3e3d337"
      },
      "outputs": [
        {
          "output_type": "execute_result",
          "data": {
            "text/plain": [
              "('clara', 19, 16.2)"
            ]
          },
          "metadata": {},
          "execution_count": 3
        }
      ],
      "source": [
        "etudiants[-1]"
      ]
    },
    {
      "cell_type": "code",
      "execution_count": 4,
      "id": "f8343079",
      "metadata": {
        "colab": {
          "base_uri": "https://localhost:8080/"
        },
        "id": "f8343079",
        "outputId": "7f8bf555-67b2-421e-b2a0-23bf36adca20"
      },
      "outputs": [
        {
          "output_type": "execute_result",
          "data": {
            "text/plain": [
              "15.5"
            ]
          },
          "metadata": {},
          "execution_count": 4
        }
      ],
      "source": [
        "etudiants[0][2]"
      ]
    },
    {
      "cell_type": "code",
      "execution_count": 6,
      "id": "f97681e9",
      "metadata": {
        "colab": {
          "base_uri": "https://localhost:8080/"
        },
        "id": "f97681e9",
        "outputId": "e66cdd69-3c5a-4888-e3f1-d815eda12797"
      },
      "outputs": [
        {
          "output_type": "stream",
          "name": "stdout",
          "text": [
            "bob 22 14.0\n"
          ]
        }
      ],
      "source": [
        "nom,age,moyen = etudiants[1][0] ,etudiants[1][1] ,etudiants[1][2]\n",
        "print(nom,age,moyen)"
      ]
    },
    {
      "cell_type": "markdown",
      "id": "7f26fb0b",
      "metadata": {
        "id": "7f26fb0b"
      },
      "source": [
        "<h1> Exercice 2 </h1>\n",
        "\n",
        "Dans un jeu de rôle, chaque personnage est représenté par un tuple contenant son nom, sa classe (comme mage, guerrier, archer, etc.), et ses points de vie. Votre tâche est de gérer les informations de ces personnages.\n",
        "\n",
        "1) Créez des tuples pour trois personnages :\n",
        "- Lila, un mage, avec 100 points de vie.\n",
        "- Torn, un guerrier, avec 150 points de vie.\n",
        "- Eryn, un archer, avec 120 points de vie.\n",
        "Stockez ces tuples dans une liste nommée personnages\n",
        "\n",
        "2) Modification des Points de Vie\n",
        "Lors d'une bataille, Torn perd 20 points de vie. Mettez à jour ses informations (Rappelez-vous que vous ne pouvez pas modifier un tuple directement, il va falloir trouver une solution)\n",
        "\n",
        "3) Affichage des Informations\n",
        "\n",
        "Affichez les nouvelle informations de Torn dans un format lisible : \"Nom du personnage : [Nom], Classe : [Classe], Points de vie : [Points de vie]\""
      ]
    },
    {
      "cell_type": "code",
      "execution_count": 7,
      "id": "eb99110b",
      "metadata": {
        "id": "eb99110b"
      },
      "outputs": [],
      "source": [
        "t1 = (\"lila\",\"mage\",100)\n",
        "t2 = (\"torn\",\"guerrier\",150)\n",
        "t3 = (\"eryn\",\"archer\",120)\n",
        "\n",
        "personnages = [t1,t2,t3]"
      ]
    },
    {
      "cell_type": "code",
      "execution_count": 10,
      "id": "c200fc11",
      "metadata": {
        "colab": {
          "base_uri": "https://localhost:8080/"
        },
        "id": "c200fc11",
        "outputId": "b529692f-633d-46d0-97c3-ed04df09c2d4"
      },
      "outputs": [
        {
          "output_type": "stream",
          "name": "stdout",
          "text": [
            "130\n",
            "[('lila', 'mage', 100), ('torn', 'guerrier', 110), ('eryn', 'archer', 120)]\n"
          ]
        }
      ],
      "source": [
        "nbr = personnages[1][2]\n",
        "print(nbr)\n",
        "personnages[1] = (\"torn\",\"guerrier\",nbr-20)\n",
        "print(personnages)"
      ]
    },
    {
      "cell_type": "code",
      "execution_count": 11,
      "id": "d78936e6",
      "metadata": {
        "colab": {
          "base_uri": "https://localhost:8080/"
        },
        "id": "d78936e6",
        "outputId": "17ddb3f0-358c-4eb0-f9be-bba799c03248"
      },
      "outputs": [
        {
          "output_type": "stream",
          "name": "stdout",
          "text": [
            "Nom du personnage : torn, Classe : guerrier, Points de vie : 110\n"
          ]
        }
      ],
      "source": [
        "nom = personnages[1][0]\n",
        "classe  = personnages[1][1]\n",
        "point = personnages[1][2]\n",
        "print(f\"Nom du personnage : {nom}, Classe : {classe}, Points de vie : {point}\")"
      ]
    }
  ],
  "metadata": {
    "kernelspec": {
      "display_name": "Python 3 (ipykernel)",
      "language": "python",
      "name": "python3"
    },
    "language_info": {
      "codemirror_mode": {
        "name": "ipython",
        "version": 3
      },
      "file_extension": ".py",
      "mimetype": "text/x-python",
      "name": "python",
      "nbconvert_exporter": "python",
      "pygments_lexer": "ipython3",
      "version": "3.11.5"
    },
    "colab": {
      "provenance": [],
      "include_colab_link": true
    }
  },
  "nbformat": 4,
  "nbformat_minor": 5
}