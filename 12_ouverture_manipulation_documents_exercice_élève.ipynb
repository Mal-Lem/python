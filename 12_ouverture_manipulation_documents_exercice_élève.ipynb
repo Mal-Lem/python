{
  "cells": [
    {
      "cell_type": "markdown",
      "metadata": {
        "id": "view-in-github",
        "colab_type": "text"
      },
      "source": [
        "<a href=\"https://colab.research.google.com/github/Mal-Lem/python/blob/main/12_ouverture_manipulation_documents_exercice_%C3%A9l%C3%A8ve.ipynb\" target=\"_parent\"><img src=\"https://colab.research.google.com/assets/colab-badge.svg\" alt=\"Open In Colab\"/></a>"
      ]
    },
    {
      "cell_type": "markdown",
      "id": "d0cbd11d",
      "metadata": {
        "id": "d0cbd11d"
      },
      "source": [
        "<h1> Exercice 1 </h1>\n",
        "\n",
        "Vous êtes chargé de maintenir la configuration d'une application stockée dans un fichier JSON nommé config.json. Votre tâche est de mettre à jour la version de l'application et de modifier le niveau de journalisation en fonction de l'environnement de l'application.\n",
        "\n",
        "<b> Tâches à réaliser </b>\n",
        "\n",
        "1) Écrire un script Python qui charge ce fichier JSON.\n",
        "\n",
        "2) Mettre à jour la version de l'application de \"1.0.0\" à \"1.1.0\".\n",
        "\n",
        "3) Si l'environnement de l'application est \"production\", changer le niveau de journalisation (logging > level) de \"debug\" à \"info\". Si l'environnement est \"development\", le niveau de journalisation doit rester \"debug\".\n",
        "\n",
        "4) Sauvegarder les modifications dans le fichier config.json."
      ]
    },
    {
      "cell_type": "code",
      "execution_count": 19,
      "id": "66dfdb2b",
      "metadata": {
        "colab": {
          "base_uri": "https://localhost:8080/"
        },
        "id": "66dfdb2b",
        "outputId": "49bc925b-a51e-4f74-8cf4-dceccd0e84cf"
      },
      "outputs": [
        {
          "output_type": "stream",
          "name": "stdout",
          "text": [
            "{'application': {'name': 'MonApplication', 'version': '1.1.0', 'environment': 'development', 'logging': {'level': 'debug', 'file': 'logs/monapplication.log'}}, 'database': {'host': 'localhost', 'port': 3306, 'user': 'utilisateur', 'password': 'motdepasse', 'name': 'ma_base_de_donnees'}, 'scheduled_tasks': [{'name': 'backup', 'frequency': 'daily', 'last_executed': '2023-01-01T00:00:00'}, {'name': 'cleanup', 'frequency': 'weekly', 'last_executed': '2023-01-01T00:00:00'}], 'version': '1.1.0'}\n"
          ]
        }
      ],
      "source": [
        "import json\n",
        "path = \"/content/config.json\"\n",
        "with open(path,\"r\") as file:\n",
        "  data = json.load(file)\n",
        "\n",
        "data[\"application\"][\"version\"] = \"1.1.0\"\n",
        "\n",
        "if data[\"application\"][\"environment\"] == \"production\":\n",
        "  data[\"application\"][\"logging\"][\"level\"] = \"info\"\n",
        "\n",
        "elif data[\"application\"][\"environment\"] == \"development\":\n",
        "  data[\"application\"][\"logging\"][\"level\"] = \"debug\"\n",
        "\n",
        "with open(path,\"w\") as file:\n",
        "  json.dump(data,file)\n",
        "  print(data)"
      ]
    },
    {
      "cell_type": "markdown",
      "id": "8cef9133",
      "metadata": {
        "id": "8cef9133"
      },
      "source": [
        "<h1> Exercice 2 </h1>\n",
        "\n",
        "Votre objectif est de récupérer un fichier CSV contenant des données de vente en ligne, puis de calculer le chiffre d'affaires généré par chaque produit. Le fichier CSV est accessible à l'adresse suivante : https://raw.githubusercontent.com/SebastienDa/Python_cours/main/produits.csv\n",
        "\n",
        "Le fichier produits.csv contient les colonnes suivantes : Date, Produit, Quantité, Prix_Unitaire.\n",
        "\n",
        "Vous allez écrire un script Python qui réalise les tâches suivantes :\n",
        "1) Récupérer le fichier CSV à partir de l'URL donnée.\n",
        "2) Lire le contenu du fichier CSV pour extraire les données de vente.\n",
        "3) Calculer le chiffre d'affaires (CA) total pour chaque produit (CA = Quantité * Prix_Unitaire).\n",
        "4) Afficher le résultat sous la forme : \"Produit: [nom du produit], CA: [chiffre d'affaires]\"."
      ]
    },
    {
      "cell_type": "code",
      "execution_count": 51,
      "id": "835c1596",
      "metadata": {
        "colab": {
          "base_uri": "https://localhost:8080/"
        },
        "id": "835c1596",
        "outputId": "d6c91098-c47e-4c9c-d23a-8987aed3c40f"
      },
      "outputs": [
        {
          "output_type": "stream",
          "name": "stdout",
          "text": [
            "<class 'pandas.core.frame.DataFrame'>\n",
            "RangeIndex: 12 entries, 0 to 11\n",
            "Data columns (total 4 columns):\n",
            " #   Column         Non-Null Count  Dtype \n",
            "---  ------         --------------  ----- \n",
            " 0   Date           12 non-null     object\n",
            " 1   Produit        12 non-null     object\n",
            " 2   Quantité       12 non-null     int64 \n",
            " 3   Prix_Unitaire  12 non-null     int64 \n",
            "dtypes: int64(2), object(2)\n",
            "memory usage: 516.0+ bytes\n"
          ]
        }
      ],
      "source": [
        "import pandas as pd\n",
        "\n",
        "url = \"https://raw.githubusercontent.com/SebastienDa/Python_cours/main/produits.csv\"\n",
        "\n",
        "file = pd.read_csv(url)\n",
        "\n",
        "#file.head()\n",
        "#file.shape\n",
        "#file.info()\n",
        "#file.describe()\n",
        "for i in range(len(file)):\n",
        " chiffre_affaire = file[\"Quantité\"][i] * file[\"Prix_Unitaire\"][i]\n",
        " print(f'Produit : {file[\"Produit\"][i]} , CA : {chiffre_affaire}')\n",
        "\n"
      ]
    }
  ],
  "metadata": {
    "kernelspec": {
      "display_name": "Python 3 (ipykernel)",
      "language": "python",
      "name": "python3"
    },
    "language_info": {
      "codemirror_mode": {
        "name": "ipython",
        "version": 3
      },
      "file_extension": ".py",
      "mimetype": "text/x-python",
      "name": "python",
      "nbconvert_exporter": "python",
      "pygments_lexer": "ipython3",
      "version": "3.11.5"
    },
    "colab": {
      "provenance": [],
      "include_colab_link": true
    }
  },
  "nbformat": 4,
  "nbformat_minor": 5
}