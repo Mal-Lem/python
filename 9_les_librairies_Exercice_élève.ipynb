{
  "cells": [
    {
      "cell_type": "markdown",
      "metadata": {
        "id": "view-in-github",
        "colab_type": "text"
      },
      "source": [
        "<a href=\"https://colab.research.google.com/github/Mal-Lem/python/blob/main/9_les_librairies_Exercice_%C3%A9l%C3%A8ve.ipynb\" target=\"_parent\"><img src=\"https://colab.research.google.com/assets/colab-badge.svg\" alt=\"Open In Colab\"/></a>"
      ]
    },
    {
      "cell_type": "markdown",
      "id": "4c6643e1",
      "metadata": {
        "id": "4c6643e1"
      },
      "source": [
        "<h1> Exercice de création de package </h1>\n",
        "\n",
        "Vous travaillez sur un projet de gestion de contacts pour une petite entreprise. Le projet nécessite la création d'un package qui permet de gérer les informations de contact des clients, y compris l'ajout, la suppression et la recherche de contacts.\n",
        "\n",
        "<b> 1) Création du Package gestion_contacts </b>\n",
        "\n",
        "Créez un fichier gestion_contact.py qui contiendra les fonctions pour ajouter, supprimer, et rechercher des contacts.\n",
        "\n",
        "<b> 2) Fonctionnalités Requises dans gestion_contact.py </b>\n",
        "\n",
        "L'ensemble des informations seront stockées dans un dictionnaire avec le nom du contact comme clé, et non numéro de téléphone comme valeur. Exemple : {'Bob': '987654321', 'Alice': '123456789'}\n",
        "\n",
        "Voici les fonctionnalités à créer :\n",
        "- Ajouter un Contact : Une fonction ajouter_contact(contacts, nom, telephone) pour ajouter un nouveau contact.\n",
        "- Supprimer un Contact : Une fonction supprimer_contact(contacts, nom) pour supprimer un contact par son nom.\n",
        "- Rechercher un Contact : Une fonction rechercher_contact(contacts, nom) pour afficher les informations d'un contact.\n",
        "\n",
        "<b> 3) Utilisation du package </b>\n",
        "\n",
        "- Importez votre module dans ce notebook\n",
        "- initialisez votre dictionnaire de contact, vide\n",
        "- Ajouter un premier contact \"Alice\" avec pour numéro de téléphone 123456789.\n",
        "- Ajouter un deuxième contact \"Bob\" avec pour numéro de téléphone 987654321.\n",
        "- Recherchez le contact Alice. Si elle est présente, supprimez là"
      ]
    },
    {
      "cell_type": "markdown",
      "source": [
        "le fichier gestion_contacts.py contient :\n",
        "\n",
        "\n",
        "\n",
        "```\n",
        "\n",
        "def ajouter_contact(contacts, nom, telephone):\n",
        "\n",
        "  contacts[nom] = telephone\n",
        "\n",
        "  print(f'contact ajouter avec succées!!')\n",
        "\n",
        "  return contacts\n",
        "```\n",
        "\n",
        "\n",
        "\n",
        "\n",
        "\n",
        "\n",
        "```\n",
        "def afficher_contacts(contacts):\n",
        "\n",
        "  for nom, telephone in contacts.items():\n",
        "\n",
        "     print(f\"{nom}: {telephone}\")\n",
        "\n",
        "  return\n",
        "```\n",
        "\n",
        "\n",
        "\n",
        "```\n",
        "def supprimer_contact(contacts, nom):\n",
        "\n",
        "  print('tentative de suppression')\n",
        "\n",
        "  if nom in contacts:\n",
        "\n",
        "   del contacts[nom]\n",
        "\n",
        "   print(f'le contact {nom} est supprimé avec succée')\n",
        "\n",
        "   return True\n",
        "\n",
        "  else:\n",
        "\n",
        "   print(f'le contact {nom} n\\'est pas trouvé donc n\\'est pas supprimé')\n",
        "\n",
        "   return False\n",
        "```\n",
        "```\n",
        "def rechercher_contact(contacts, nom):\n",
        "\n",
        "    if nom in contacts:\n",
        "        print(f\"le contact de {nom} est : {contacts[nom]}\")\n",
        "    else :\n",
        "        print(f\"le contact de {nom} n'est pas trouvé\")\n",
        "    return True\n",
        "```"
      ],
      "metadata": {
        "id": "cEGWWAXndqdB"
      },
      "id": "cEGWWAXndqdB"
    },
    {
      "cell_type": "code",
      "source": [
        "import sys\n",
        "import importlib\n",
        "sys.path.append('/content/')\n",
        "\n",
        "import gestion_contacts as gc"
      ],
      "metadata": {
        "id": "Zh0KbHk4VLS0"
      },
      "id": "Zh0KbHk4VLS0",
      "execution_count": 99,
      "outputs": []
    },
    {
      "cell_type": "code",
      "source": [
        "importlib.reload(gc)"
      ],
      "metadata": {
        "colab": {
          "base_uri": "https://localhost:8080/"
        },
        "id": "96c-Bt8FcW6u",
        "outputId": "65485869-e6cb-45d8-ca04-6753137b9431"
      },
      "id": "96c-Bt8FcW6u",
      "execution_count": 100,
      "outputs": [
        {
          "output_type": "execute_result",
          "data": {
            "text/plain": [
              "<module 'gestion_contacts' from '/content/gestion_contacts.py'>"
            ]
          },
          "metadata": {},
          "execution_count": 100
        }
      ]
    },
    {
      "cell_type": "code",
      "execution_count": 101,
      "id": "5ff2e1e6",
      "metadata": {
        "id": "5ff2e1e6"
      },
      "outputs": [],
      "source": [
        "contacts = {}"
      ]
    },
    {
      "cell_type": "code",
      "source": [
        "gc.ajouter_contact(contacts,\"amel\",1232552)\n",
        "gc.ajouter_contact(contacts,\"alice\",1237852)\n",
        "gc.ajouter_contact(contacts,\"bob\",1232982)"
      ],
      "metadata": {
        "colab": {
          "base_uri": "https://localhost:8080/"
        },
        "id": "s_-1aQzSW9wY",
        "outputId": "ff7f45bd-6536-4223-8ba7-1024ca194d64"
      },
      "id": "s_-1aQzSW9wY",
      "execution_count": 102,
      "outputs": [
        {
          "output_type": "stream",
          "name": "stdout",
          "text": [
            "contact ajouter avec succées!!\n",
            "contact ajouter avec succées!!\n",
            "contact ajouter avec succées!!\n"
          ]
        },
        {
          "output_type": "execute_result",
          "data": {
            "text/plain": [
              "{'amel': 1232552, 'alice': 1237852, 'bob': 1232982}"
            ]
          },
          "metadata": {},
          "execution_count": 102
        }
      ]
    },
    {
      "cell_type": "code",
      "source": [
        "gc.afficher_contacts(contacts)"
      ],
      "metadata": {
        "colab": {
          "base_uri": "https://localhost:8080/"
        },
        "id": "HlNh6X2LXDMQ",
        "outputId": "5437a7c7-4357-4657-c8cb-f702028cc4e1"
      },
      "id": "HlNh6X2LXDMQ",
      "execution_count": 103,
      "outputs": [
        {
          "output_type": "stream",
          "name": "stdout",
          "text": [
            "amel: 1232552\n",
            "alice: 1237852\n",
            "bob: 1232982\n"
          ]
        }
      ]
    },
    {
      "cell_type": "code",
      "source": [
        "gc.rechercher_contact(contacts,\"amel\")"
      ],
      "metadata": {
        "colab": {
          "base_uri": "https://localhost:8080/"
        },
        "id": "liVd-BjFct3f",
        "outputId": "fd868a77-3638-46a0-b102-5ef89d31dbde"
      },
      "id": "liVd-BjFct3f",
      "execution_count": 104,
      "outputs": [
        {
          "output_type": "stream",
          "name": "stdout",
          "text": [
            "le contact de amel est : 1232552\n"
          ]
        },
        {
          "output_type": "execute_result",
          "data": {
            "text/plain": [
              "True"
            ]
          },
          "metadata": {},
          "execution_count": 104
        }
      ]
    },
    {
      "cell_type": "code",
      "source": [
        "gc.supprimer_contact(contacts,\"amel\")"
      ],
      "metadata": {
        "colab": {
          "base_uri": "https://localhost:8080/"
        },
        "id": "ixrli4rAXGpC",
        "outputId": "7abe763e-5053-478c-aef3-f8e7895da68a"
      },
      "id": "ixrli4rAXGpC",
      "execution_count": 105,
      "outputs": [
        {
          "output_type": "stream",
          "name": "stdout",
          "text": [
            "tentative de suppression\n",
            "le contact amel est supprimé avec succée\n"
          ]
        },
        {
          "output_type": "execute_result",
          "data": {
            "text/plain": [
              "True"
            ]
          },
          "metadata": {},
          "execution_count": 105
        }
      ]
    },
    {
      "cell_type": "code",
      "source": [
        "gc.afficher_contacts(contacts)"
      ],
      "metadata": {
        "colab": {
          "base_uri": "https://localhost:8080/"
        },
        "id": "tYt1bVZLc4hX",
        "outputId": "7db44940-181c-40b4-9d48-a8220336d96f"
      },
      "id": "tYt1bVZLc4hX",
      "execution_count": 106,
      "outputs": [
        {
          "output_type": "stream",
          "name": "stdout",
          "text": [
            "alice: 1237852\n",
            "bob: 1232982\n"
          ]
        }
      ]
    }
  ],
  "metadata": {
    "kernelspec": {
      "display_name": "Python 3 (ipykernel)",
      "language": "python",
      "name": "python3"
    },
    "language_info": {
      "codemirror_mode": {
        "name": "ipython",
        "version": 3
      },
      "file_extension": ".py",
      "mimetype": "text/x-python",
      "name": "python",
      "nbconvert_exporter": "python",
      "pygments_lexer": "ipython3",
      "version": "3.11.5"
    },
    "colab": {
      "provenance": [],
      "include_colab_link": true
    }
  },
  "nbformat": 4,
  "nbformat_minor": 5
}