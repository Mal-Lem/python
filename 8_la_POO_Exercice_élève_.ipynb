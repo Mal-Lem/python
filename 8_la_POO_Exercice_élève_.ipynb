{
  "cells": [
    {
      "cell_type": "markdown",
      "metadata": {
        "id": "view-in-github",
        "colab_type": "text"
      },
      "source": [
        "<a href=\"https://colab.research.google.com/github/Mal-Lem/python/blob/main/8_la_POO_Exercice_%C3%A9l%C3%A8ve_.ipynb\" target=\"_parent\"><img src=\"https://colab.research.google.com/assets/colab-badge.svg\" alt=\"Open In Colab\"/></a>"
      ]
    },
    {
      "cell_type": "markdown",
      "id": "77e18ff7",
      "metadata": {
        "id": "77e18ff7"
      },
      "source": [
        "<H1> La POO : exercice final </h1>\n",
        "    \n",
        "Vous êtes en charge de développer un système informatique pour gérer un zoo. Ce système doit suivre les animaux présents dans le zoo, leurs caractéristiques et les soins qu'ils reçoivent.\n",
        "\n",
        "1) Création de Classes\n",
        "- Créez une classe Animal qui représente un animal générique du zoo. Cette classe servira de classe parent pour des types d'animaux spécifiques.\n",
        "\n",
        "2) Création d'Attributs\n",
        "- Dans la classe Animal, définissez des attributs d'instance pour nom, espèce et age.\n",
        "- Ajoutez un attribut de classe nombre_animaux pour tenir compte du nombre total d'animaux dans le zoo. Ajoutez un systeme pour que la valeur s'incrémente de 1 à chaque nouvel animal ajouté.\n",
        "\n",
        "3) Création de Méthodes\n",
        "- Ajoutez une méthode afficher_info() dans la classe Animal pour imprimer les détails de l'animal.\n",
        "\n",
        "4) Attributs privé\n",
        "- Faites de l'attribut age un attribut privé\n",
        "\n",
        "5) Création d'Objets\n",
        "- Instanciez quelques objets de la classe Animal pour représenter différents animaux dans votre zoo :  \"Simba\", \"Lion\", 5 / \"Gigi\", \"Girafe\", 7\n",
        "\n",
        "6) Héritage Simple\n",
        "- Créez une classe Mammifere qui hérite de Animal et ajoutez un attribut spécifique nombre_de_pattes.\n",
        "- Ajoutez un mammifere au zoo : \"Dumbo\", \"Éléphant\", 10, 4"
      ]
    },
    {
      "cell_type": "code",
      "source": [
        "class Animal:\n",
        "    nombre_animaux = 0\n",
        "\n",
        "    def __init__(self, nom, espece, age):\n",
        "        self.nom = nom\n",
        "        self.espece = espece\n",
        "        self.__age = age\n",
        "        Animal.nombre_animaux += 1\n",
        "    def afficher_info(self):\n",
        "        print(f'Nom : {self.nom} , espèce : {self.espece}, age : {self.__age}')\n",
        ""
      ],
      "metadata": {
        "id": "ccJsyOsUqNXr"
      },
      "id": "ccJsyOsUqNXr",
      "execution_count": 19,
      "outputs": []
    },
    {
      "cell_type": "code",
      "source": [
        "l1 = Animal(\"Simba\",\"Lion\",5)\n",
        "g1 = Animal(\"Gigi\",\"Girafe\",7)"
      ],
      "metadata": {
        "id": "6hHOrVYErU15"
      },
      "id": "6hHOrVYErU15",
      "execution_count": 20,
      "outputs": []
    },
    {
      "cell_type": "code",
      "source": [
        "l1.afficher_info()\n",
        "g1.afficher_info()"
      ],
      "metadata": {
        "colab": {
          "base_uri": "https://localhost:8080/"
        },
        "id": "4UQFxQXaKqK2",
        "outputId": "91dc6c4c-8d42-44a3-9c7f-c1b65309030c"
      },
      "id": "4UQFxQXaKqK2",
      "execution_count": 21,
      "outputs": [
        {
          "output_type": "stream",
          "name": "stdout",
          "text": [
            "Nom : Simba , espèce : Lion, age : 5\n",
            "Nom : Gigi , espèce : Girafe, age : 7\n"
          ]
        }
      ]
    },
    {
      "cell_type": "code",
      "source": [
        "class Mammifere(Animal):\n",
        "  def __init__(self, nom, espece, age, nombre_de_pattes):\n",
        "    super().__init__(nom, espece, age)\n",
        "    self.nombre_de_pattes = nombre_de_pattes\n",
        "  def afficher_info(self):\n",
        "        print(f'Nom : {self.nom} , espèce : {self.espece}, age : {self._Animal__age}, Nombre de pattes : {self.nombre_de_pattes}')"
      ],
      "metadata": {
        "id": "ovDpbR2krwwp"
      },
      "id": "ovDpbR2krwwp",
      "execution_count": 24,
      "outputs": []
    },
    {
      "cell_type": "code",
      "source": [
        "m1 = Mammifere(\"Dumbo\", \"Éléphant\", 10, 4)\n",
        "m1.afficher_info()"
      ],
      "metadata": {
        "colab": {
          "base_uri": "https://localhost:8080/"
        },
        "id": "AGC6DP_jKbLG",
        "outputId": "1f3400c5-8697-434b-a02f-e7ce7e03d951"
      },
      "id": "AGC6DP_jKbLG",
      "execution_count": 25,
      "outputs": [
        {
          "output_type": "stream",
          "name": "stdout",
          "text": [
            "Nom : Dumbo , espèce : Éléphant, age : 10, Nombre de pattes : 4\n"
          ]
        }
      ]
    }
  ],
  "metadata": {
    "kernelspec": {
      "display_name": "Python 3 (ipykernel)",
      "language": "python",
      "name": "python3"
    },
    "language_info": {
      "codemirror_mode": {
        "name": "ipython",
        "version": 3
      },
      "file_extension": ".py",
      "mimetype": "text/x-python",
      "name": "python",
      "nbconvert_exporter": "python",
      "pygments_lexer": "ipython3",
      "version": "3.11.5"
    },
    "colab": {
      "provenance": [],
      "include_colab_link": true
    }
  },
  "nbformat": 4,
  "nbformat_minor": 5
}