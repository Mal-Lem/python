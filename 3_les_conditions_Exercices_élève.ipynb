{
  "cells": [
    {
      "cell_type": "markdown",
      "metadata": {
        "id": "view-in-github",
        "colab_type": "text"
      },
      "source": [
        "<a href=\"https://colab.research.google.com/github/Mal-Lem/python/blob/main/3_les_conditions_Exercices_%C3%A9l%C3%A8ve.ipynb\" target=\"_parent\"><img src=\"https://colab.research.google.com/assets/colab-badge.svg\" alt=\"Open In Colab\"/></a>"
      ]
    },
    {
      "cell_type": "markdown",
      "metadata": {
        "id": "_JzO8JralFae"
      },
      "source": [
        "<h1> Exercice 1 </h1>\n",
        "\n",
        "Vous êtes en train de développer un système de recommandation de films pour une plateforme de streaming. Le système doit recommander différents genres de films en fonction de l'âge de l'utilisateur. Les règles de recommandation sont les suivantes :\n",
        "\n",
        "- Pour les utilisateurs de moins de 13 ans, recommandez des films d'animation.\n",
        "- Pour les utilisateurs âgés de 13 à 17 ans inclus, recommandez des films d'aventure.\n",
        "- Pour les utilisateurs de 18 ans et plus, recommandez des films dramatiques.\n",
        "\n",
        "Vous devez retourner dans un print la phrase : Nous recommandons des films #type film correspondant#."
      ]
    },
    {
      "cell_type": "code",
      "execution_count": 4,
      "metadata": {
        "colab": {
          "base_uri": "https://localhost:8080/"
        },
        "id": "lQlqKVvAlFai",
        "outputId": "e41173a3-7479-42e9-bbe0-9d093c220da7"
      },
      "outputs": [
        {
          "output_type": "stream",
          "name": "stdout",
          "text": [
            "Nous recommandons des films d'aventure\n"
          ]
        }
      ],
      "source": [
        "# Entrée de l'âge de l'utilisateur\n",
        "age =  15\n",
        "if age < 13 :\n",
        " print(\"Nous recommandons des films d'animation\")\n",
        "\n",
        "elif age >= 13 and age <= 17:\n",
        "  print(\"Nous recommandons des films d'aventure\")\n",
        "\n",
        "else :\n",
        "  print(\"Nous recommandons des films dramatiques\")"
      ]
    },
    {
      "cell_type": "markdown",
      "metadata": {
        "id": "fCPKH7OklFaj"
      },
      "source": [
        "<h1> Exercice 2 </h1>\n",
        "\n",
        "Vous écrivez un programme pour un cinéma qui offre des tarifs spéciaux pour les étudiants et les seniors. Les règles de tarification sont les suivantes :\n",
        "\n",
        "- Le ticket standard coûte 10 euros.\n",
        "- Les étudiants et les seniors bénéficient d'une réduction de 50%.\n",
        "- Si une personne est à la fois étudiante et senior, la réduction s'applique une seule fois.\n",
        "\n",
        "Écrivez un programme en Python qui calcule et affiche le prix du ticket en tenant compte de la réduction si applicable"
      ]
    },
    {
      "cell_type": "code",
      "execution_count": 8,
      "metadata": {
        "colab": {
          "base_uri": "https://localhost:8080/"
        },
        "id": "L8fE80XNlFaj",
        "outputId": "3f67c987-75c2-4efd-da41-9f5d7aa6fad3"
      },
      "outputs": [
        {
          "output_type": "stream",
          "name": "stdout",
          "text": [
            "la reduction est appliquée 5.0 euro\n"
          ]
        }
      ],
      "source": [
        "# Prix standard\n",
        "prix_standard = 10\n",
        "\n",
        "# Entrées de l'utilisateur\n",
        "est_etudiant = True\n",
        "est_senior = False\n",
        "\n",
        "if est_etudiant and est_senior:\n",
        "  prix_standard = prix_standard * 0.5\n",
        "  print(\"la reduction est appliquée \" + str(prix_standard) + \" euro\")\n",
        "elif est_etudiant or est_senior :\n",
        "  prix_standard = prix_standard * 0.5\n",
        "  print(\"la reduction est appliquée \" + str(prix_standard) + \" euro\")\n",
        "else :\n",
        "  print(\"la reduction n'est pas appliquée \")"
      ]
    },
    {
      "cell_type": "markdown",
      "metadata": {
        "id": "AJ5xcvfhlFak"
      },
      "source": [
        "<h1>Exercice 3</h1>\n",
        "\n",
        "Vous créez un programme pour un site de e-commerce pour afficher un message sur la disponibilité d'un produit. Le produit est considéré comme \"En Stock\" si la quantité est supérieure à zéro. Sinon, le produit est \"Hors Stock\".\n",
        "\n",
        "Écrivez un programme en Python qui utilise un Short Hand if ... else pour déterminer et afficher l'état du stock du produit (\"En Stock\" ou \"Hors Stock\")"
      ]
    },
    {
      "cell_type": "code",
      "execution_count": null,
      "metadata": {
        "id": "CGuMoagdlFal"
      },
      "outputs": [],
      "source": [
        "quantite = 3\n",
        "if quantite > 0 :\n",
        "  print(\"En stock\")\n",
        "else :\n",
        "  print(\"Hors stock\")"
      ]
    },
    {
      "cell_type": "markdown",
      "metadata": {
        "id": "DlHkDlpDlFal"
      },
      "source": [
        "<h1>Exercice 4</h1>\n",
        "\n",
        "Vous écrivez un programme pour un thermostat intelligent. Le thermostat doit réguler la température en fonction de la saison. Les règles sont simples :\n",
        "\n",
        "- En hiver, si la température est inférieure à 20 degrés Celsius, le chauffage doit être allumé.\n",
        "- En été, si la température dépasse 30 degrés Celsius, le climatiseur doit être allumé.\n",
        "\n",
        "Écrivez un programme en Python qui :\n",
        "- indique si le chauffage doit s'allumer ou non,  lorqu'on est en hiver\n",
        "- indique si la climatisation doit s'allumer ou non, lorqu'on est en été\n",
        "\n",
        "La phrase à obtenir dans un print() est par exemple \"Nous sommes en été et l'allumage de la climatisation est nécéssaire/non nécéssaire\""
      ]
    },
    {
      "cell_type": "code",
      "execution_count": 11,
      "metadata": {
        "colab": {
          "base_uri": "https://localhost:8080/"
        },
        "id": "njqIP9RklFam",
        "outputId": "d8e7208f-4880-4f16-f077-d8bbb01bb7f8"
      },
      "outputs": [
        {
          "output_type": "stream",
          "name": "stdout",
          "text": [
            "la clim ne doit pas s'allumer nous somme en été\n"
          ]
        }
      ],
      "source": [
        "saison = \"été\" # uniquement 2 valeurs possibles : été et hiver\n",
        "temperature = 25\n",
        "if saison == \"été\" and temperature > 30 :\n",
        "  print(\"la clim doit s'allumer nous somme en été\")\n",
        "elif saison == \"hiver\" and temperature < 20 :\n",
        "  print(\"le chauffage doit s'allumer nous somme en hiver\")\n",
        "elif saison == \"été\" and temperature < 30:\n",
        "  print(\"la clim ne doit pas s'allumer nous somme en été\")\n",
        "else :\n",
        "  print(\"le chauffage ne doit pas s'allumer nous somme en hiver\")\n"
      ]
    },
    {
      "cell_type": "markdown",
      "metadata": {
        "id": "Pdd3f5fklFan"
      },
      "source": [
        "<h1>Exercice 5 (bonus)</h1>"
      ]
    },
    {
      "cell_type": "markdown",
      "metadata": {
        "id": "Zmjs4c6nlFao"
      },
      "source": [
        "Vous développez un programme pour un petit café qui calcule le prix total des commandes des clients. Le café offre une promotion spéciale pour encourager les clients à acheter des boissons et des pâtisseries ensemble. Voici les règles :\n",
        "\n",
        "- Si un client commande une boisson (café ou thé) et une pâtisserie (gâteau ou biscuit), il obtient une réduction de 20% sur le total.\n",
        "- Si un client commande uniquement une boisson (café ou thé), il n'y a pas de réduction.\n",
        "- Si un client commande uniquement une pâtisserie (gâteau ou biscuit), il n'y a pas de réduction.\n",
        "\n",
        "Écrivez un programme en Python qui calcule et affiche le prix total en tenant compte de la promotion si applicable."
      ]
    },
    {
      "cell_type": "code",
      "execution_count": 15,
      "metadata": {
        "colab": {
          "base_uri": "https://localhost:8080/"
        },
        "id": "CGHQ5sxLlFao",
        "outputId": "f7ed4c16-cfd3-41eb-c5c7-43320cced9e0"
      },
      "outputs": [
        {
          "output_type": "stream",
          "name": "stdout",
          "text": [
            "le prix total est 5\n"
          ]
        }
      ],
      "source": [
        "# Prix fixe\n",
        "prix_boisson = 5\n",
        "prix_patisserie = 4\n",
        "\n",
        "# Entrées de l'utilisateur\n",
        "commande_boisson = \"oui\" # uniquement 2 valeurs possibles : oui ou non\n",
        "commande_patisserie = \"non\" # uniquement 2 valeurs possibles : oui ou non\n",
        "\n",
        "if commande_boisson == \"oui\" and commande_patisserie == \"oui\":\n",
        "  prix_total = (prix_boisson + prix_patisserie) * 0.2\n",
        "  print(\"le prix total est de \" + str(prix_total))\n",
        "elif commande_boisson == \"oui\" and commande_patisserie == \"non\":\n",
        "  print(\"le prix total est \" + str(prix_boisson))\n",
        "elif commande_boisson == \"non\" and commande_patisserie == \"oui\":\n",
        "  print(\"le prix total est \" + str(prix_patisserie))\n",
        "else :\n",
        "  print(\"passer une commande on a une reduction\" )"
      ]
    }
  ],
  "metadata": {
    "kernelspec": {
      "display_name": "Python 3 (ipykernel)",
      "language": "python",
      "name": "python3"
    },
    "language_info": {
      "codemirror_mode": {
        "name": "ipython",
        "version": 3
      },
      "file_extension": ".py",
      "mimetype": "text/x-python",
      "name": "python",
      "nbconvert_exporter": "python",
      "pygments_lexer": "ipython3",
      "version": "3.11.5"
    },
    "colab": {
      "provenance": [],
      "include_colab_link": true
    }
  },
  "nbformat": 4,
  "nbformat_minor": 0
}