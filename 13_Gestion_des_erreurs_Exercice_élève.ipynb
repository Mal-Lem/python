{
  "cells": [
    {
      "cell_type": "markdown",
      "metadata": {
        "id": "view-in-github",
        "colab_type": "text"
      },
      "source": [
        "<a href=\"https://colab.research.google.com/github/Mal-Lem/python/blob/main/13_Gestion_des_erreurs_Exercice_%C3%A9l%C3%A8ve.ipynb\" target=\"_parent\"><img src=\"https://colab.research.google.com/assets/colab-badge.svg\" alt=\"Open In Colab\"/></a>"
      ]
    },
    {
      "cell_type": "markdown",
      "id": "300f4205",
      "metadata": {
        "id": "300f4205"
      },
      "source": [
        "<h1> Exercice </h1>\n",
        "    \n",
        "Vous créez un programme pour prendre les commandes dans un restaurant. Le menu est représenté par un dictionnaire où les clés sont les noms des plats et les valeurs sont les prix. Le système doit permettre au serveur de saisir les commandes des clients et calculer le total, y compris un pourboire optionnel.\n",
        "\n",
        "<b> 1) Fonction de Prise de Commande </b>\n",
        "\n",
        "Écrivez une fonction prendre_commande(menu) qui demande au serveur de saisir le nom d'un plat et lui affiche (via un print) le prix de celui-ci. Utilisez try et except pour gérer une KeyError si le plat n'est pas dans le menu.\n",
        "\n",
        "<b> 2) Calcul du Total avec Pourboire </b>\n",
        "\n",
        "Créez une fonction calculer_total(prix, pourboire) qui calcule le total de la commande en ajoutant un pourboire. Levez une ValueError si le pourboire est négatif.\n",
        "\n",
        "<b> 3) Nettoyage avec Finally </b>\n",
        "\n",
        "Ajoutez un bloc finally à la fonction calculer_total pour afficher un message confirmant que la commande a été traitée, peu importe le résultat."
      ]
    },
    {
      "cell_type": "code",
      "execution_count": 2,
      "id": "7cbce971",
      "metadata": {
        "id": "7cbce971"
      },
      "outputs": [],
      "source": [
        "menuDuJour = {\"Pizza\": 10, \"Salade\": 6, \"Burger\": 8, \"Pâtes\": 9, \"Soupe\": 5}"
      ]
    },
    {
      "cell_type": "code",
      "execution_count": 5,
      "id": "58640a31",
      "metadata": {
        "colab": {
          "base_uri": "https://localhost:8080/"
        },
        "id": "58640a31",
        "outputId": "d81367cc-418f-454e-d4aa-a44e7c93652c"
      },
      "outputs": [
        {
          "output_type": "stream",
          "name": "stdout",
          "text": [
            "saisi le nom d'un plat Soupe\n",
            "5\n"
          ]
        }
      ],
      "source": [
        "#1\n",
        "def prendre_commande(menu):\n",
        "  choix = input('saisi le nom d\\'un plat ')\n",
        "  try:\n",
        "    print(menu[choix])\n",
        "  except KeyError:\n",
        "    print('le plat n\\'est pas disponible ')\n",
        "\n",
        "prendre_commande(menuDuJour)"
      ]
    },
    {
      "cell_type": "code",
      "execution_count": 15,
      "id": "d45fcb71",
      "metadata": {
        "colab": {
          "base_uri": "https://localhost:8080/"
        },
        "id": "d45fcb71",
        "outputId": "f24161c0-4a51-4bb3-9749-741dcc448c99"
      },
      "outputs": [
        {
          "output_type": "stream",
          "name": "stdout",
          "text": [
            "le pourboire est négatif \n",
            "la commande a été traité\n"
          ]
        }
      ],
      "source": [
        "#2\n",
        "def calculer_total(prix,pourboire):\n",
        "  if pourboire < 0:\n",
        "    raise ValueError(\"le pourboire est négatif \")\n",
        "\n",
        "  else:\n",
        "    total = (prix+pourboire)\n",
        "    return total\n",
        "\n",
        "try:\n",
        "  calculer_total(10,-5)\n",
        "except ValueError as e:\n",
        "  print(e)\n",
        "finally:\n",
        "  print('la commande a été traité')"
      ]
    }
  ],
  "metadata": {
    "kernelspec": {
      "display_name": "Python 3 (ipykernel)",
      "language": "python",
      "name": "python3"
    },
    "language_info": {
      "codemirror_mode": {
        "name": "ipython",
        "version": 3
      },
      "file_extension": ".py",
      "mimetype": "text/x-python",
      "name": "python",
      "nbconvert_exporter": "python",
      "pygments_lexer": "ipython3",
      "version": "3.11.5"
    },
    "colab": {
      "provenance": [],
      "include_colab_link": true
    }
  },
  "nbformat": 4,
  "nbformat_minor": 5
}