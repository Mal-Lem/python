{
  "cells": [
    {
      "cell_type": "markdown",
      "metadata": {
        "id": "view-in-github",
        "colab_type": "text"
      },
      "source": [
        "<a href=\"https://colab.research.google.com/github/Mal-Lem/python/blob/main/6_les_boucles_exercices_el%C3%A8ve.ipynb\" target=\"_parent\"><img src=\"https://colab.research.google.com/assets/colab-badge.svg\" alt=\"Open In Colab\"/></a>"
      ]
    },
    {
      "cell_type": "markdown",
      "id": "d094a8bc",
      "metadata": {
        "id": "d094a8bc"
      },
      "source": [
        "<h1> Exercice 1 </h1>\n",
        "\n",
        "Vous êtes en charge de développer un système de réservation pour un cinéma. Le cinéma a une capacité de 40 sièges. Vous devez écrire un programme qui demande continuellement aux utilisateurs combien de billets ils souhaitent acheter, puis décompte ces billets du total disponible. Le programme doit s'arrêter lorsqu'il n'y a plus de sièges disponibles ou si l'utilisateur entre le nombre 0 (qui indique qu'il ne souhaite pas acheter de billets et qu'il s'agit de la fin de la queue).\n",
        "\n",
        "À la fin, le programme doit afficher le nombre total de billets vendus.\n",
        "\n",
        "<b> 1) Initialisation des Variables </b>\n",
        "\n",
        "- Définissez une variable pour la capacité totale du cinéma (40 sièges).\n",
        "- Définissez une variable pour compter le nombre total de billets vendus.\n",
        "\n",
        "<b> 2) Configuration de la Boucle while </b>\n",
        "\n",
        "- Commencez une boucle while qui s'exécute tant qu'il y a des sièges disponibles.\n",
        "\n",
        "<b> 3) Demande d'Achat de Billets </b>\n",
        "\n",
        "- À l'intérieur de la boucle, demandez à l'utilisateur combien de billets il souhaite acheter (via la méthode input)\n",
        "- Convertissez la réponse en un nombre entier.\n",
        "\n",
        "<b> 4) Conditions de Sortie </b>\n",
        "\n",
        "- Vérifiez si l'utilisateur a entré 0 (aucun achat). Si c'est le cas, interrompez la boucle avec break.\n",
        "- Vérifiez si le nombre de billets demandés est supérieur au nombre de sièges disponibles. Si c'est le cas, affichez un message d'erreur et redémarrez la boucle afin de demander à nouveau le nombre de places.\n",
        "\n",
        "<b> 5) Mise à Jour des Compteurs </b>\n",
        "- Déduisez le nombre de billets achetés de la capacité totale du cinéma.\n",
        "- Ajoutez le nombre de billets achetés au total des billets vendus.\n",
        "\n",
        "<b> 6) Affichage des Résultats </b>\n",
        "- À chaque itération, affichez le nombre de billets achetés et le nombre de sièges restants.\n",
        "- À la fin de la boucle, affichez le nombre total de billets vendus.\n",
        "\n",
        "\n",
        "<b> Important ! Point info sur la méthode Input</b>\n",
        "\n",
        "La méthode input permet d'afficher un champ de saisie. La valeur saisie peut être sauvegardée dans une variable.\n",
        "La valeur récupérée est pas défaut une string, il reste cependant possible de modifier son type.\n"
      ]
    },
    {
      "cell_type": "code",
      "execution_count": 1,
      "id": "71c06ce9",
      "metadata": {
        "colab": {
          "base_uri": "https://localhost:8080/"
        },
        "id": "71c06ce9",
        "outputId": "0cb78a0a-4301-47f0-d4b7-e3984721388c"
      },
      "outputs": [
        {
          "output_type": "stream",
          "name": "stdout",
          "text": [
            "Quel est votre prénom ?amel\n",
            " Quel est votre age ?22\n",
            "Vous indiquez vous appeler amel et avoir 22 ans\n"
          ]
        }
      ],
      "source": [
        "prenom = input(\"Quel est votre prénom ?\")\n",
        "age = int(input(\" Quel est votre age ?\"))\n",
        "\n",
        "print(f\"Vous indiquez vous appeler {prenom} et avoir {age} ans\")"
      ]
    },
    {
      "cell_type": "code",
      "execution_count": 21,
      "id": "4fc63106",
      "metadata": {
        "colab": {
          "base_uri": "https://localhost:8080/"
        },
        "id": "4fc63106",
        "outputId": "0b7046bb-021e-4887-bc40-a28d319f5291"
      },
      "outputs": [
        {
          "output_type": "stream",
          "name": "stdout",
          "text": [
            "il reste 40 de places\n",
            "combien de billets voulez-vous acheter ?20\n",
            "il reste 20 de places\n",
            "combien de billets voulez-vous acheter ?50\n",
            "il n y apas assez de places\n",
            "il reste 20 de places\n",
            "combien de billets voulez-vous acheter ?20\n",
            "il y a 40 billets vendus\n"
          ]
        }
      ],
      "source": [
        "capacite = 40\n",
        "billets_vendus = 0\n",
        "while capacite > 0 :\n",
        "  print(f'il reste {capacite} de places')\n",
        "  nb_billets = int(input('combien de billets voulez-vous acheter ?'))\n",
        "  if nb_billets == 0 :\n",
        "    break\n",
        "  if nb_billets > capacite :\n",
        "    print('il n y apas assez de places')\n",
        "    continue\n",
        "  billets_vendus += nb_billets\n",
        "  capacite -= nb_billets\n",
        "\n",
        "print(f'il y a {billets_vendus} billets vendus')"
      ]
    },
    {
      "cell_type": "markdown",
      "id": "28ec3eb8",
      "metadata": {
        "id": "28ec3eb8"
      },
      "source": [
        "<h1> Exercice 2 </h1>\n",
        "\n",
        "Vous êtes responsable du développement d'un programme pour une librairie. Cette librairie organise une foire aux livres et vous devez étiqueter chaque livre avec son prix et son numéro de série. Chaque livre de la foire a un prix fixé à 5 euros et vous avez une liste de 100 livres. Votre tâche est d'utiliser une boucle for pour créer une liste d'étiquettes pour chaque livre, indiquant son numéro de série (de 1 à 100) et son prix.\n",
        "\n",
        "<b> 1) Préparation de la Liste des Étiquettes </b>\n",
        "- Créez une liste vide pour stocker les étiquettes.\n",
        "\n",
        "<b> 2) Utilisation de la Boucle for avec range() </b>\n",
        "- Utilisez une boucle for en combinaison avec la fonction range() pour générer les numéros de série de 1 à 100.\n",
        "\n",
        "<b> 3) Création des Étiquettes </b>\n",
        "- Pour chaque numéro de série, créez une étiquette qui indique le numéro de série et le prix fixe du livre.\n",
        "\n",
        "<b> 4) Ajout des Étiquettes à la Liste</b>\n",
        "- Ajoutez chaque étiquette créée à la liste des étiquettes."
      ]
    },
    {
      "cell_type": "code",
      "execution_count": 27,
      "id": "604e8c82",
      "metadata": {
        "scrolled": true,
        "colab": {
          "base_uri": "https://localhost:8080/"
        },
        "id": "604e8c82",
        "outputId": "2c7bfaa5-99e4-4f99-c8bc-2acb3d18554c"
      },
      "outputs": [
        {
          "output_type": "stream",
          "name": "stdout",
          "text": [
            "['Livre 1 : 5 euros', 'Livre 2 : 5 euros', 'Livre 3 : 5 euros', 'Livre 4 : 5 euros', 'Livre 5 : 5 euros', 'Livre 6 : 5 euros', 'Livre 7 : 5 euros', 'Livre 8 : 5 euros', 'Livre 9 : 5 euros', 'Livre 10 : 5 euros', 'Livre 11 : 5 euros', 'Livre 12 : 5 euros', 'Livre 13 : 5 euros', 'Livre 14 : 5 euros', 'Livre 15 : 5 euros', 'Livre 16 : 5 euros', 'Livre 17 : 5 euros', 'Livre 18 : 5 euros', 'Livre 19 : 5 euros', 'Livre 20 : 5 euros', 'Livre 21 : 5 euros', 'Livre 22 : 5 euros', 'Livre 23 : 5 euros', 'Livre 24 : 5 euros', 'Livre 25 : 5 euros', 'Livre 26 : 5 euros', 'Livre 27 : 5 euros', 'Livre 28 : 5 euros', 'Livre 29 : 5 euros', 'Livre 30 : 5 euros', 'Livre 31 : 5 euros', 'Livre 32 : 5 euros', 'Livre 33 : 5 euros', 'Livre 34 : 5 euros', 'Livre 35 : 5 euros', 'Livre 36 : 5 euros', 'Livre 37 : 5 euros', 'Livre 38 : 5 euros', 'Livre 39 : 5 euros', 'Livre 40 : 5 euros', 'Livre 41 : 5 euros', 'Livre 42 : 5 euros', 'Livre 43 : 5 euros', 'Livre 44 : 5 euros', 'Livre 45 : 5 euros', 'Livre 46 : 5 euros', 'Livre 47 : 5 euros', 'Livre 48 : 5 euros', 'Livre 49 : 5 euros', 'Livre 50 : 5 euros', 'Livre 51 : 5 euros', 'Livre 52 : 5 euros', 'Livre 53 : 5 euros', 'Livre 54 : 5 euros', 'Livre 55 : 5 euros', 'Livre 56 : 5 euros', 'Livre 57 : 5 euros', 'Livre 58 : 5 euros', 'Livre 59 : 5 euros', 'Livre 60 : 5 euros', 'Livre 61 : 5 euros', 'Livre 62 : 5 euros', 'Livre 63 : 5 euros', 'Livre 64 : 5 euros', 'Livre 65 : 5 euros', 'Livre 66 : 5 euros', 'Livre 67 : 5 euros', 'Livre 68 : 5 euros', 'Livre 69 : 5 euros', 'Livre 70 : 5 euros', 'Livre 71 : 5 euros', 'Livre 72 : 5 euros', 'Livre 73 : 5 euros', 'Livre 74 : 5 euros', 'Livre 75 : 5 euros', 'Livre 76 : 5 euros', 'Livre 77 : 5 euros', 'Livre 78 : 5 euros', 'Livre 79 : 5 euros', 'Livre 80 : 5 euros', 'Livre 81 : 5 euros', 'Livre 82 : 5 euros', 'Livre 83 : 5 euros', 'Livre 84 : 5 euros', 'Livre 85 : 5 euros', 'Livre 86 : 5 euros', 'Livre 87 : 5 euros', 'Livre 88 : 5 euros', 'Livre 89 : 5 euros', 'Livre 90 : 5 euros', 'Livre 91 : 5 euros', 'Livre 92 : 5 euros', 'Livre 93 : 5 euros', 'Livre 94 : 5 euros', 'Livre 95 : 5 euros', 'Livre 96 : 5 euros', 'Livre 97 : 5 euros', 'Livre 98 : 5 euros', 'Livre 99 : 5 euros', 'Livre 100 : 5 euros']\n"
          ]
        }
      ],
      "source": [
        "etiquetes = []\n",
        "for i in range(1,101):\n",
        "  etiquetes.append(f'Livre {i} : 5 euros')\n",
        "print(etiquetes)"
      ]
    },
    {
      "cell_type": "markdown",
      "id": "2f83cb28",
      "metadata": {
        "id": "2f83cb28"
      },
      "source": [
        "<h1> Exercice 3 </h1>\n",
        "\n",
        "Vous êtes en charge du développement d'un système pour un petit tournoi sportif. Vous avez un dictionnaire où chaque clé est le nom d'une équipe et chaque valeur est le nombre de points que l'équipe a gagnés jusqu'à présent.\n",
        "\n",
        "Votre tâche est d'utiliser une boucle for pour mettre à jour les points de chaque équipe en fonction de leurs performances dans les derniers matchs."
      ]
    },
    {
      "cell_type": "code",
      "execution_count": 25,
      "id": "fe8bbe2e",
      "metadata": {
        "id": "fe8bbe2e"
      },
      "outputs": [],
      "source": [
        "points_equipes = {\n",
        "    \"Équipe A\": 25,\n",
        "    \"Équipe B\": 30,\n",
        "    \"Équipe C\": 22\n",
        "}\n",
        "resultats_matchs = {\"Équipe A\": 3, \"Équipe B\": 2, \"Équipe C\": 5}"
      ]
    },
    {
      "cell_type": "code",
      "execution_count": 26,
      "id": "cb873083",
      "metadata": {
        "colab": {
          "base_uri": "https://localhost:8080/"
        },
        "id": "cb873083",
        "outputId": "7857a832-16b2-4a46-ad0e-4548c59c328b"
      },
      "outputs": [
        {
          "output_type": "stream",
          "name": "stdout",
          "text": [
            "{'Équipe A': 28, 'Équipe B': 32, 'Équipe C': 27}\n"
          ]
        }
      ],
      "source": [
        "for equipe in resultats_matchs :\n",
        "  points_equipes[equipe] += resultats_matchs[equipe]\n",
        "print(points_equipes)"
      ]
    },
    {
      "cell_type": "markdown",
      "id": "465f6e7e",
      "metadata": {
        "id": "465f6e7e"
      },
      "source": [
        "<h1> Exercice 4 </h1>\n",
        "\n",
        "Vous travaillez sur un projet de gestion de données environnementales. Votre tâche est de traiter une liste de températures en degrés Celsius pour convertir ces températures en degrés Fahrenheit. Utilisez une compréhension de liste pour créer une nouvelle liste contenant les températures converties. Ensuite, filtrez cette liste pour ne conserver que les températures supérieures à 60 degrés Fahrenheit.\n",
        "\n",
        "Formule de Conversion\n",
        "La formule de conversion de Celsius en Fahrenheit est <b> F = (C × 9/5) + 32 </b>\n",
        "\n",
        "\n",
        "<b> 1) Conversion en Fahrenheit avec Compréhension de Liste </b>\n",
        "\n",
        "- Utilisez une compréhension de liste pour convertir chaque température en Fahrenheit.\n",
        "\n",
        "<b>2)  Filtrage des Températures </b>\n",
        "\n",
        "- Filtrez la nouvelle liste pour ne garder que les températures supérieures à 60 degrés Fahrenheit."
      ]
    },
    {
      "cell_type": "code",
      "execution_count": 3,
      "id": "cc152ea9",
      "metadata": {
        "id": "cc152ea9"
      },
      "outputs": [],
      "source": [
        "temperatures_celsius = [10, 15, 20, 25, 30]"
      ]
    },
    {
      "cell_type": "code",
      "execution_count": 17,
      "id": "4981bb68",
      "metadata": {
        "colab": {
          "base_uri": "https://localhost:8080/"
        },
        "id": "4981bb68",
        "outputId": "f37d86cf-967e-438a-c334-41972e6e3967"
      },
      "outputs": [
        {
          "output_type": "stream",
          "name": "stdout",
          "text": [
            "[50.0, 59.0, 68.0, 77.0, 86.0]\n"
          ]
        }
      ],
      "source": [
        "liste_comp = []\n",
        "for i in temperatures_celsius:\n",
        "  liste_comp.append((i*9/5)+32)\n",
        "print(liste_comp)"
      ]
    },
    {
      "cell_type": "code",
      "source": [
        "for j in liste_comp:\n",
        "  if j <= 60 :\n",
        "   liste_comp.remove(j)\n",
        "   print(liste_comp)"
      ],
      "metadata": {
        "colab": {
          "base_uri": "https://localhost:8080/"
        },
        "id": "C9YEjEnIay8M",
        "outputId": "beeae9e1-c6af-4c7b-cd9a-6b748d96060a"
      },
      "id": "C9YEjEnIay8M",
      "execution_count": 20,
      "outputs": [
        {
          "output_type": "stream",
          "name": "stdout",
          "text": [
            "[68.0, 77.0, 86.0]\n"
          ]
        }
      ]
    }
  ],
  "metadata": {
    "kernelspec": {
      "display_name": "Python 3 (ipykernel)",
      "language": "python",
      "name": "python3"
    },
    "language_info": {
      "codemirror_mode": {
        "name": "ipython",
        "version": 3
      },
      "file_extension": ".py",
      "mimetype": "text/x-python",
      "name": "python",
      "nbconvert_exporter": "python",
      "pygments_lexer": "ipython3",
      "version": "3.11.5"
    },
    "colab": {
      "provenance": [],
      "include_colab_link": true
    }
  },
  "nbformat": 4,
  "nbformat_minor": 5
}