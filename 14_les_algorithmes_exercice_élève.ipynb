{
  "cells": [
    {
      "cell_type": "markdown",
      "metadata": {
        "id": "view-in-github",
        "colab_type": "text"
      },
      "source": [
        "<a href=\"https://colab.research.google.com/github/Mal-Lem/python/blob/main/14_les_algorithmes_exercice_%C3%A9l%C3%A8ve.ipynb\" target=\"_parent\"><img src=\"https://colab.research.google.com/assets/colab-badge.svg\" alt=\"Open In Colab\"/></a>"
      ]
    },
    {
      "cell_type": "markdown",
      "id": "15698c8b",
      "metadata": {
        "id": "15698c8b"
      },
      "source": [
        "<h1> Exercice </h1>\n",
        "\n",
        "Votre mission consiste à développer un programme pour une boutique en ligne afin de gérer son inventaire de produits.\n",
        "\n",
        "Chaque produit est identifié par un numéro unique (ID). Vous recevez une liste désordonnée d'IDs de produits et devez réaliser les tâches suivantes :\n",
        "- Trier la liste d'IDs en utilisant l'algorithme de tri par sélection pour organiser l'inventaire de manière ascendante.\n",
        "- Une fois la liste triée, utiliser la recherche binaire pour vérifier la disponibilité d'un produit spécifique en recherchant son ID dans la liste triée.\n",
        "- Afficher si le produit est disponible ou non et, si oui, indiquer son emplacement (index) dans la liste triée."
      ]
    },
    {
      "cell_type": "code",
      "source": [
        "def tri_selection(tab):\n",
        "\n",
        "   for i in range(len(tab)):\n",
        "       min = i\n",
        "\n",
        "       for j in range(i+1, len(tab)):\n",
        "           if tab[min] > tab[j]:\n",
        "               min = j\n",
        "\n",
        "       tmp = tab[i]\n",
        "       tab[i] = tab[min]\n",
        "       tab[min] = tmp\n",
        "\n",
        "   return tab"
      ],
      "metadata": {
        "id": "aK9ti2WprjsF"
      },
      "id": "aK9ti2WprjsF",
      "execution_count": 3,
      "outputs": []
    },
    {
      "cell_type": "code",
      "execution_count": 4,
      "id": "db3d0edd",
      "metadata": {
        "colab": {
          "base_uri": "https://localhost:8080/"
        },
        "id": "db3d0edd",
        "outputId": "5913e15e-72a5-4ee6-e7f4-42a7d694db44"
      },
      "outputs": [
        {
          "output_type": "stream",
          "name": "stdout",
          "text": [
            "[3, 12, 34, 55, 78, 102]\n"
          ]
        }
      ],
      "source": [
        "produits = [102, 34, 55, 78, 3, 12]\n",
        "\n",
        "produits_trie = tri_selection(produits)\n",
        "print(produits)"
      ]
    },
    {
      "cell_type": "code",
      "source": [
        "def recherche_binaire(tab,id):\n",
        "   debut = 0\n",
        "   fin = len(tab) - 1\n",
        "   while debut <= fin:\n",
        "      milieu = (debut + fin) // 2\n",
        "      if tab[milieu] == id :\n",
        "         return milieu\n",
        "      elif tab[milieu] < id :\n",
        "         debut = milieu + 1\n",
        "      else :\n",
        "        fin = milieu - 1"
      ],
      "metadata": {
        "id": "-KGW0kDzr4KN"
      },
      "id": "-KGW0kDzr4KN",
      "execution_count": 9,
      "outputs": []
    },
    {
      "cell_type": "code",
      "source": [
        "index = recherche_binaire(produits_trie,78)\n",
        "print(f'la valeur chercher est dispo à la position {index}')"
      ],
      "metadata": {
        "colab": {
          "base_uri": "https://localhost:8080/"
        },
        "collapsed": true,
        "id": "KD7KQFKBuZEp",
        "outputId": "4ec7d6c8-8802-43d2-807b-7204906ab4af"
      },
      "id": "KD7KQFKBuZEp",
      "execution_count": 12,
      "outputs": [
        {
          "output_type": "stream",
          "name": "stdout",
          "text": [
            "la valeur chercher est dispo à la position 4\n"
          ]
        }
      ]
    }
  ],
  "metadata": {
    "kernelspec": {
      "display_name": "Python 3 (ipykernel)",
      "language": "python",
      "name": "python3"
    },
    "language_info": {
      "codemirror_mode": {
        "name": "ipython",
        "version": 3
      },
      "file_extension": ".py",
      "mimetype": "text/x-python",
      "name": "python",
      "nbconvert_exporter": "python",
      "pygments_lexer": "ipython3",
      "version": "3.11.5"
    },
    "colab": {
      "provenance": [],
      "include_colab_link": true
    }
  },
  "nbformat": 4,
  "nbformat_minor": 5
}