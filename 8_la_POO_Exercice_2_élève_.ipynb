{
  "cells": [
    {
      "cell_type": "markdown",
      "metadata": {
        "id": "view-in-github",
        "colab_type": "text"
      },
      "source": [
        "<a href=\"https://colab.research.google.com/github/Mal-Lem/python/blob/main/8_la_POO_Exercice_2_%C3%A9l%C3%A8ve_.ipynb\" target=\"_parent\"><img src=\"https://colab.research.google.com/assets/colab-badge.svg\" alt=\"Open In Colab\"/></a>"
      ]
    },
    {
      "cell_type": "markdown",
      "id": "021d0533",
      "metadata": {
        "id": "021d0533"
      },
      "source": [
        "# 🏦 Exercice : Système Bancaire\n",
        "\n",
        "##  Objectif\n",
        "Créer une **simulation de banque** qui gère plusieurs comptes bancaires et permet aux clients d'effectuer diverses opérations.\n",
        "\n",
        "---\n",
        "\n",
        "##  Partie 1 : Classe `CompteBancaire`\n",
        "Créez une classe `CompteBancaire` représentant un compte bancaire avec les fonctionnalités suivantes :\n",
        "\n",
        "###  Spécifications :\n",
        "- **Attributs** :\n",
        "  - `titulaire` (str) : Nom du titulaire du compte.\n",
        "  - `solde` (float) : Solde du compte (initialisé à 0).\n",
        "  - `numero_compte` (int) : Un numéro unique généré aléatoirement.\n",
        "\n",
        "- **Méthodes** :\n",
        "  - `depot(montant)` : Ajoute un montant au solde.\n",
        "  - `retrait(montant)` : Retire un montant du solde si suffisant, sinon affiche un message d’erreur.\n",
        "  - `afficher_solde()` : Affiche le solde du compte.\n",
        "\n",
        "---\n",
        "\n",
        "##  Partie 2 : Classe `CompteEpargne` (Héritage)\n",
        "Créez une classe `CompteEpargne` qui hérite de `CompteBancaire` et ajoute un **taux d'intérêt**.\n",
        "\n",
        "###  Spécifications :\n",
        "- **Attributs supplémentaires** :\n",
        "  - `taux_interet` (float) : Un taux d'intérêt appliqué au compte (ex : 2% = 0.02).\n",
        "\n",
        "- **Méthode** :\n",
        "  - `appliquer_interet()` : Calcule et applique les intérêts au solde.\n",
        "\n",
        "---\n",
        "\n",
        "##  Partie 3 : Classe `Banque`\n",
        "Créez une classe `Banque` qui gère plusieurs comptes bancaires.\n",
        "\n",
        "###  Spécifications :\n",
        "- **Attributs** :\n",
        "  - `comptes` (dictionnaire) : Stocke les comptes avec le numéro comme clé.\n",
        "\n",
        "- **Méthodes** :\n",
        "  - `ajouter_compte(compte)` : Ajoute un compte à la banque.\n",
        "  - `trouver_compte(numero)` : Recherche un compte par son numéro.\n",
        "  - `afficher_comptes()` : Affiche la liste des comptes et leurs soldes.\n",
        "\n",
        "---\n",
        "\n",
        "##  Partie 4 : Interface Utilisateur (Menu Interactif)\n",
        "Ajoutez un menu qui permet aux utilisateurs de :\n",
        "\n",
        "1. **Créer un compte bancaire ou un compte épargne**.\n",
        "2. **Faire un dépôt** sur un compte existant.\n",
        "3. **Faire un retrait** d’un compte existant.\n",
        "4. **Consulter le solde d’un compte**.\n",
        "5. **Appliquer les intérêts sur un compte épargne**.\n",
        "6. **Afficher tous les comptes de la banque**.\n",
        "7. **Quitter le programme**.\n",
        "\n",
        "---\n",
        "\n",
        "##  Instructions :\n",
        "1. Implémentez chaque classe en respectant les spécifications.\n",
        "2. Ajoutez un menu interactif pour permettre aux utilisateurs d’interagir avec la banque.\n",
        "\n"
      ]
    },
    {
      "cell_type": "code",
      "source": [
        "class CompteBancaire:\n",
        "    compteur = 20000\n",
        "    def __init__(self,titulaire,solde = 0):\n",
        "        self.titulaire = titulaire\n",
        "        self.solde = solde\n",
        "        self.numero_compte = CompteBancaire.compteur\n",
        "        CompteBancaire.compteur += 1\n",
        "\n",
        "    def depot(self,montant):\n",
        "        self.solde += montant\n",
        "\n",
        "\n",
        "    def retrait(self,montant):\n",
        "        if self.solde >= montant:\n",
        "           self.solde -= montant\n",
        "        else :\n",
        "           print(\"vous n'avez pas assez de crédit dans votre compte\")\n",
        "\n",
        "    def afficher_solde(self):\n",
        "        print(f'votre solde est {self.solde}')\n",
        ""
      ],
      "metadata": {
        "id": "o_pYdwbPyA8D"
      },
      "id": "o_pYdwbPyA8D",
      "execution_count": 70,
      "outputs": []
    },
    {
      "cell_type": "code",
      "source": [
        "class CompteEpargne(CompteBancaire):\n",
        "    def __init__(self,titulaire,solde = 0, taux_interet = 0.02):\n",
        "        super().__init__(titulaire,solde)\n",
        "        self.taux_interet = taux_interet\n",
        "\n",
        "    def appliquer_interet(self):\n",
        "        self.solde += self.solde*self.taux_interet\n",
        "        return self.solde\n"
      ],
      "metadata": {
        "id": "set-bkZe1O-C"
      },
      "id": "set-bkZe1O-C",
      "execution_count": 71,
      "outputs": []
    },
    {
      "cell_type": "code",
      "source": [
        "class Banque:\n",
        "    def __init__(self,comptes = {}):\n",
        "        self.comptes = comptes\n",
        "\n",
        "\n",
        "    def ajouter_compte(self,compte):\n",
        "       self.comptes[compte.numero_compte] = compte\n",
        "\n",
        "    def trouver_compte(self,numero):\n",
        "        return self.comptes.get(numero)\n",
        "\n",
        "    def afficher_comptes(self):\n",
        "      for numero,compte in self.comptes.items():\n",
        "          print(f'les comptes numero : {numero} titulaire : {compte.titulaire} solde : {compte.solde}')"
      ],
      "metadata": {
        "id": "tlij-cNQ5szl"
      },
      "id": "tlij-cNQ5szl",
      "execution_count": 72,
      "outputs": []
    },
    {
      "cell_type": "code",
      "source": [
        "c1 = CompteBancaire(\"amel\",50000)\n",
        "c2 = CompteEpargne(\"wail\",80000)\n",
        "\n",
        "c1.depot(500)\n",
        "c1.afficher_solde()\n",
        "c2.depot(30)\n",
        "c2.afficher_solde()\n",
        "\n",
        "c1.retrait(1000)\n",
        "c1.afficher_solde()\n",
        "c2.retrait(500)\n",
        "c2.afficher_solde()"
      ],
      "metadata": {
        "colab": {
          "base_uri": "https://localhost:8080/"
        },
        "id": "zO107AQc72H3",
        "outputId": "5b1b3479-610c-4df6-d2ae-71ece0c54f4d"
      },
      "id": "zO107AQc72H3",
      "execution_count": 73,
      "outputs": [
        {
          "output_type": "stream",
          "name": "stdout",
          "text": [
            "votre solde est 50500\n",
            "votre solde est 80030\n",
            "votre solde est 49500\n",
            "votre solde est 79530\n"
          ]
        }
      ]
    },
    {
      "cell_type": "code",
      "source": [
        "c2.appliquer_interet()"
      ],
      "metadata": {
        "colab": {
          "base_uri": "https://localhost:8080/"
        },
        "id": "XFQ4T5h-9yY-",
        "outputId": "5edc9ecc-82ef-40c1-a756-6507edaff177"
      },
      "id": "XFQ4T5h-9yY-",
      "execution_count": 74,
      "outputs": [
        {
          "output_type": "execute_result",
          "data": {
            "text/plain": [
              "81120.6"
            ]
          },
          "metadata": {},
          "execution_count": 74
        }
      ]
    },
    {
      "cell_type": "code",
      "source": [
        "bna = Banque()\n",
        "bna.ajouter_compte(c1)\n",
        "bna.ajouter_compte(c2)\n",
        "\n",
        "bna.afficher_comptes()"
      ],
      "metadata": {
        "colab": {
          "base_uri": "https://localhost:8080/"
        },
        "id": "7bKm3neh_Xdx",
        "outputId": "1c17a828-ec61-4c2b-8ce0-85c597b92482"
      },
      "id": "7bKm3neh_Xdx",
      "execution_count": 75,
      "outputs": [
        {
          "output_type": "stream",
          "name": "stdout",
          "text": [
            "les comptes numero : 20000 titulaire : amel solde : 49500\n",
            "les comptes numero : 20001 titulaire : wail solde : 81120.6\n"
          ]
        }
      ]
    }
  ],
  "metadata": {
    "kernelspec": {
      "display_name": "Python 3 (ipykernel)",
      "language": "python",
      "name": "python3"
    },
    "language_info": {
      "codemirror_mode": {
        "name": "ipython",
        "version": 3
      },
      "file_extension": ".py",
      "mimetype": "text/x-python",
      "name": "python",
      "nbconvert_exporter": "python",
      "pygments_lexer": "ipython3",
      "version": "3.11.5"
    },
    "colab": {
      "provenance": [],
      "include_colab_link": true
    }
  },
  "nbformat": 4,
  "nbformat_minor": 5
}