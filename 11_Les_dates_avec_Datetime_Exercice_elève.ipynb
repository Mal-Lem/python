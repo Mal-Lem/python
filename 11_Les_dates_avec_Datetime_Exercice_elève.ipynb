{
  "cells": [
    {
      "cell_type": "markdown",
      "metadata": {
        "id": "view-in-github",
        "colab_type": "text"
      },
      "source": [
        "<a href=\"https://colab.research.google.com/github/Mal-Lem/python/blob/main/11_Les_dates_avec_Datetime_Exercice_el%C3%A8ve.ipynb\" target=\"_parent\"><img src=\"https://colab.research.google.com/assets/colab-badge.svg\" alt=\"Open In Colab\"/></a>"
      ]
    },
    {
      "cell_type": "markdown",
      "id": "1f0225df",
      "metadata": {
        "id": "1f0225df"
      },
      "source": [
        "<h1> Exercice date</h1>\n",
        "\n",
        "Vous êtes en train de développer un petit programme pour gérer un agenda personnel. Le programme doit permettre à l'utilisateur d'ajouter des événements avec une date spécifique, d'afficher tous les événements dans un format lisible, et de calculer le temps restant jusqu'à chaque événement.\n",
        "\n",
        "Les évènements à placer (assurez vous que les dates soit dans le futur):\n",
        "- Voyage avion : 2024-07-01T14:30:15.128000\n",
        "- Conférence : 2024-07-04T16:30:00.000000\n",
        "- Diner professionnel : 2024-07-06T20:30:00.000000\n",
        "\n",
        "<b> Fonction 1 : Ajout d'un Événement </b>\n",
        "\n",
        "- Demandez à l'utilisateur de saisir la date et l'heure de l'événement au format ISO 8601 (YYYY-MM-DDTHH:MM:SS), suivies du nom de l'événement. Les informations doivent être séparées par une virgule. Exemple de saisie : 2023-12-25T15:00:00, Repas de Noël.\n",
        "- Utilisez la méthode split(\", \") pour séparer la chaîne de caractères saisie en deux parties : la date et le nom de l'événement.\n",
        "- Convertissez la partie date en un objet datetime en utilisant la méthode fromisoformat.\n",
        "- Ajoutez l'objet datetime et le nom de l'événement dans une liste globale nommée agenda sous forme de tuple.\n",
        "- Testez votre fonction en ajoutant plusieurs événements, puis imprimez agenda pour vérifier que les données sont correctement stockées.\n",
        "\n",
        "<b> Fonction 2 : Affichage des Événements </b>\n",
        "\n",
        "- Parcourez chaque événement stocké dans la liste agenda.\n",
        "- Pour chaque événement, utilisez la méthode strftime() pour convertir l'objet datetime en une chaîne de caractères formatée (choisissez le format vous semblant le plus clair pour une lecture d'agenda)\n",
        "- Concaténez la chaîne de caractères formatée avec le nom de l'événement et affichez le résultat. Chaque événement doit être affiché sur une nouvelle ligne.\n",
        "- Assurez-vous que la sortie soit claire et lisible, par exemple : \"2023-03-15 14:00:00 - Rendez-vous chez le médecin\".\n",
        "\n",
        "<b> Fonction 3 : Calcul du Temps Restant </b>\n",
        "\n",
        "- Obtenez la date et l'heure actuelles avec datetime.now().\n",
        "- Parcourez chaque événement dans l'agenda.\n",
        "- Pour chaque événement, calculez la différence (timedelta) entre la date de l'événement et la date actuelle.\n",
        "- Extraire le nombre de jours à partir de l'objet timedelta obtenu et préparez une chaîne de caractères indiquant le nombre de jours restants jusqu'à l'événement.\n",
        "- Affichez le nom de l'événement suivi du nombre de jours restants, par exemple : \"Repas de Noël dans 365 jours\"."
      ]
    },
    {
      "cell_type": "code",
      "source": [
        "from datetime import datetime\n",
        "agenda = []"
      ],
      "metadata": {
        "id": "Q8sY3COzzFFL"
      },
      "id": "Q8sY3COzzFFL",
      "execution_count": 44,
      "outputs": []
    },
    {
      "cell_type": "code",
      "source": [
        "def ajoutEvenement():\n",
        "    input_date = input(\"veuillez saisir une date  l'heure de l'événement au format (YYYY-MM-DDTHH:MM:SS), suivies du nom de l'événement \")\n",
        "    date , nomEvenement = input_date.split(\",\")\n",
        "    x = datetime.fromisoformat(date.strip())\n",
        "    agenda.append((x,nomEvenement))\n",
        ""
      ],
      "metadata": {
        "id": "_GEEJ_Wd32gK"
      },
      "id": "_GEEJ_Wd32gK",
      "execution_count": 45,
      "outputs": []
    },
    {
      "cell_type": "code",
      "source": [
        "for i in range(3):\n",
        " ajoutEvenement()\n",
        "print(agenda)"
      ],
      "metadata": {
        "colab": {
          "base_uri": "https://localhost:8080/"
        },
        "id": "ONjV8KaV4QIb",
        "outputId": "a534efea-206c-4f26-b86a-b814fd2d298e"
      },
      "id": "ONjV8KaV4QIb",
      "execution_count": 46,
      "outputs": [
        {
          "output_type": "stream",
          "name": "stdout",
          "text": [
            "veuillez saisir une date  l'heure de l'événement au format (YYYY-MM-DDTHH:MM:SS), suivies du nom de l'événement 2023-12-25T15:00:00, Repas de Noël\n",
            "veuillez saisir une date  l'heure de l'événement au format (YYYY-MM-DDTHH:MM:SS), suivies du nom de l'événement 2023-12-25T15:00:00, Repas de l'aid\n",
            "veuillez saisir une date  l'heure de l'événement au format (YYYY-MM-DDTHH:MM:SS), suivies du nom de l'événement 2023-12-25T15:00:00, Repas de mouloud\n",
            "[(datetime.datetime(2023, 12, 25, 15, 0), ' Repas de Noël'), (datetime.datetime(2023, 12, 25, 15, 0), \" Repas de l'aid\"), (datetime.datetime(2023, 12, 25, 15, 0), ' Repas de mouloud')]\n"
          ]
        }
      ]
    },
    {
      "cell_type": "code",
      "source": [
        "def afficherAgenda():\n",
        "    for evenement in agenda:\n",
        "        formatted_date = evenement[0].strftime(\"%d-%m-%Y %H:%M\")\n",
        "        print(f\"{formatted_date} -> {evenement[1]}\")\n",
        "afficherAgenda()"
      ],
      "metadata": {
        "colab": {
          "base_uri": "https://localhost:8080/"
        },
        "id": "yg-V9i6I9Ga2",
        "outputId": "740cf1c1-c64b-435a-a9a7-171d765b2cce"
      },
      "id": "yg-V9i6I9Ga2",
      "execution_count": 49,
      "outputs": [
        {
          "output_type": "stream",
          "name": "stdout",
          "text": [
            "25-12-2023 15:00 ->  Repas de Noël\n",
            "25-12-2023 15:00 ->  Repas de l'aid\n",
            "25-12-2023 15:00 ->  Repas de mouloud\n"
          ]
        }
      ]
    },
    {
      "cell_type": "code",
      "source": [
        "now = datetime.now()\n",
        "#print(now)\n",
        "for i in range(len(agenda)):\n",
        "    date_evenement = agenda[i][0]\n",
        "    timedelta = now - date_evenement\n",
        "    timedelta = timedelta.days\n",
        "    print(f\"l'événemant {agenda[i][1]} dans {timedelta} jours\")"
      ],
      "metadata": {
        "colab": {
          "base_uri": "https://localhost:8080/"
        },
        "id": "jN8Qux4C9nx_",
        "outputId": "8e482c5f-8aca-4274-d003-3ec00e9dca21"
      },
      "id": "jN8Qux4C9nx_",
      "execution_count": 58,
      "outputs": [
        {
          "output_type": "stream",
          "name": "stdout",
          "text": [
            "l'événemant  Repas de Noël dans 427 jours\n",
            "l'événemant  Repas de l'aid dans 427 jours\n",
            "l'événemant  Repas de mouloud dans 427 jours\n"
          ]
        }
      ]
    }
  ],
  "metadata": {
    "kernelspec": {
      "display_name": "Python 3 (ipykernel)",
      "language": "python",
      "name": "python3"
    },
    "language_info": {
      "codemirror_mode": {
        "name": "ipython",
        "version": 3
      },
      "file_extension": ".py",
      "mimetype": "text/x-python",
      "name": "python",
      "nbconvert_exporter": "python",
      "pygments_lexer": "ipython3",
      "version": "3.11.5"
    },
    "colab": {
      "provenance": [],
      "include_colab_link": true
    }
  },
  "nbformat": 4,
  "nbformat_minor": 5
}