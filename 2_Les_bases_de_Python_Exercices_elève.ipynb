{
  "cells": [
    {
      "cell_type": "markdown",
      "metadata": {
        "id": "view-in-github",
        "colab_type": "text"
      },
      "source": [
        "<a href=\"https://colab.research.google.com/github/Mal-Lem/python/blob/main/2_Les_bases_de_Python_Exercices_el%C3%A8ve.ipynb\" target=\"_parent\"><img src=\"https://colab.research.google.com/assets/colab-badge.svg\" alt=\"Open In Colab\"/></a>"
      ]
    },
    {
      "cell_type": "markdown",
      "metadata": {
        "id": "clebLtvhQFBv"
      },
      "source": [
        "<b> 1) Debuggez cette erreur et expliquer brievement le problème en commentaire"
      ]
    },
    {
      "cell_type": "code",
      "execution_count": 2,
      "metadata": {
        "id": "nDz23Ko4QFBz"
      },
      "outputs": [],
      "source": [
        "Nom = 'Sebastien'"
      ]
    },
    {
      "cell_type": "code",
      "execution_count": 4,
      "metadata": {
        "colab": {
          "base_uri": "https://localhost:8080/"
        },
        "id": "pyJZz5KTQFBz",
        "outputId": "46ead2f5-7c98-4f5f-b8ed-e010570d3a36"
      },
      "outputs": [
        {
          "output_type": "stream",
          "name": "stdout",
          "text": [
            "mon nom est Sebastien\n"
          ]
        }
      ],
      "source": [
        "print('mon nom est '+ Nom) # c'est que la variable doit etre ajouter avec un +"
      ]
    },
    {
      "cell_type": "markdown",
      "metadata": {
        "id": "qte9Qs2pQFB0"
      },
      "source": [
        "<b>2) Faites en sorte que la cellule ci-dessous retourne 'J'apprends la data Science' à partir des variables à disposition"
      ]
    },
    {
      "cell_type": "code",
      "execution_count": 7,
      "metadata": {
        "colab": {
          "base_uri": "https://localhost:8080/"
        },
        "id": "xvL4ZGEcQFB0",
        "outputId": "1df94f21-8300-4bd6-8a1c-db3e1fcc22ba"
      },
      "outputs": [
        {
          "output_type": "stream",
          "name": "stdout",
          "text": [
            "J'apprends la Data science\n"
          ]
        }
      ],
      "source": [
        "debutPhrase = \"J'apprends la \" # faut remplacer '' par \"\"\n",
        "finPhrase = 'Data science'\n",
        "print(debutPhrase + finPhrase)"
      ]
    },
    {
      "cell_type": "markdown",
      "metadata": {
        "id": "MwiCPqsLQFB1"
      },
      "source": [
        "<b> 3) Debugguez le code ci-dessous en modifiant uniquement ce qu'il se trouve dans print(...)"
      ]
    },
    {
      "cell_type": "code",
      "execution_count": 9,
      "metadata": {
        "colab": {
          "base_uri": "https://localhost:8080/"
        },
        "id": "HjEO51hqQFB1",
        "outputId": "38bc6245-b54c-48d5-c4f7-53e5d4215f35"
      },
      "outputs": [
        {
          "output_type": "stream",
          "name": "stdout",
          "text": [
            "j'apprends Python depuis 2 heures.\n"
          ]
        }
      ],
      "source": [
        "heuresPassees = 2\n",
        "debutPhrase = 'j\\'apprends Python depuis '\n",
        "finPhrase = ' heures.'\n",
        "\n",
        "print(debutPhrase + str(heuresPassees) + finPhrase)"
      ]
    },
    {
      "cell_type": "markdown",
      "metadata": {
        "id": "9_y7_lZAQFB2"
      },
      "source": [
        "<b> 4) quelle sera la valeur de varAge dans le code ci-dessous ? Expliquez en commentaire la raison"
      ]
    },
    {
      "cell_type": "code",
      "execution_count": 10,
      "metadata": {
        "id": "kCjIlp3DQFB2"
      },
      "outputs": [],
      "source": [
        "varAge = 28"
      ]
    },
    {
      "cell_type": "code",
      "execution_count": 11,
      "metadata": {
        "id": "lZCVREBFQFB2"
      },
      "outputs": [],
      "source": [
        "varAge = 30"
      ]
    },
    {
      "cell_type": "code",
      "execution_count": 12,
      "metadata": {
        "colab": {
          "base_uri": "https://localhost:8080/"
        },
        "id": "oU9LYlX4QFB3",
        "outputId": "edb13310-a0be-417e-922e-face0b139a67"
      },
      "outputs": [
        {
          "output_type": "stream",
          "name": "stdout",
          "text": [
            "30\n"
          ]
        }
      ],
      "source": [
        "print(varAge) # la première etais exraser par la deuxieme"
      ]
    },
    {
      "cell_type": "markdown",
      "metadata": {
        "id": "PXR3FfR8QFB3"
      },
      "source": [
        "<b> 5) Création d'un calculaeur de conversion </b>\n",
        "\n",
        "5) a) A partir des variables mises à disposition, calculez le taux de conversion et stockez le dans la variable \"tauxConversion\"\n",
        "\n",
        "Définition : Le taux de conversion d’un site web désigne le plus souvent le ratio [conversions/visites] donnant le pourcentage de visiteurs réalisant un achat au cours de la visite d’un site"
      ]
    },
    {
      "cell_type": "code",
      "execution_count": 30,
      "metadata": {
        "id": "W1RxU9m-QFB4"
      },
      "outputs": [],
      "source": [
        "nombreDeVisites = 26736352\n",
        "nombredeConversions = 973520\n",
        "tauxConversion= nombredeConversions/nombreDeVisites"
      ]
    },
    {
      "cell_type": "markdown",
      "metadata": {
        "id": "_geYaDKlQFB4"
      },
      "source": [
        "5) b) Verifiez le type de la variable en l'imprimant à l'execution de la cellule"
      ]
    },
    {
      "cell_type": "code",
      "execution_count": 31,
      "metadata": {
        "colab": {
          "base_uri": "https://localhost:8080/"
        },
        "id": "MIq8JiU4QFB4",
        "outputId": "f03d6ea3-a683-4c39-a012-3fff0df97697"
      },
      "outputs": [
        {
          "output_type": "stream",
          "name": "stdout",
          "text": [
            "0.036411848557349934\n"
          ]
        }
      ],
      "source": [
        "print(tauxConversion)"
      ]
    },
    {
      "cell_type": "markdown",
      "metadata": {
        "id": "NrlJvxtGQFB4"
      },
      "source": [
        "5) c) faites en sorte que le taux soit en base 100 plutôt qu'en base 1 (ex : avoir 62 plutot que 0.62)"
      ]
    },
    {
      "cell_type": "code",
      "execution_count": 32,
      "metadata": {
        "id": "6ChcE-iwQFB4"
      },
      "outputs": [],
      "source": [
        "tauxConversion= tauxConversion*100"
      ]
    },
    {
      "cell_type": "markdown",
      "metadata": {
        "id": "1RVuWfHoQFB5"
      },
      "source": [
        "5) d) faites en sorte que le taux ne contient plus de virgule (nombre entier)"
      ]
    },
    {
      "cell_type": "code",
      "execution_count": 33,
      "metadata": {
        "id": "OS8z3-eBQFB5"
      },
      "outputs": [],
      "source": [
        "tauxConversion= int(tauxConversion)"
      ]
    },
    {
      "cell_type": "markdown",
      "metadata": {
        "id": "StkjGTJYQFB5"
      },
      "source": [
        "5) e) Imprimez la phrase suivante \"Le taux de conversion est (valeur tauxConversion) %\""
      ]
    },
    {
      "cell_type": "code",
      "execution_count": 34,
      "metadata": {
        "colab": {
          "base_uri": "https://localhost:8080/"
        },
        "id": "Y7ZnC87hQFB5",
        "outputId": "ed3adda2-3d31-4b21-dfb9-cbdf098a3120"
      },
      "outputs": [
        {
          "output_type": "stream",
          "name": "stdout",
          "text": [
            "Le taux de conversion est 3%\n"
          ]
        }
      ],
      "source": [
        "print(\"Le taux de conversion est \" + str(tauxConversion) +\"%\")"
      ]
    },
    {
      "cell_type": "markdown",
      "metadata": {
        "id": "ZttAQJfWQFB5"
      },
      "source": [
        "5) f) Rassemblez toutes vos manipulations dans une cellule pour faire le travail en une seule fois. Commentez votre code pour expliquer vos manipulations."
      ]
    },
    {
      "cell_type": "code",
      "execution_count": null,
      "metadata": {
        "id": "uj_jaWG0QFB5"
      },
      "outputs": [],
      "source": [
        "nombreDeVisites = 26736352\n",
        "nombredeConversions = 973520\n",
        "#tauxConversion=..."
      ]
    },
    {
      "cell_type": "markdown",
      "metadata": {
        "id": "AHDCu6IpQFB6"
      },
      "source": [
        "<b>6) Vous travaillez sur un script pour un théâtre qui doit préparer des pancartes avec les noms des pièces de théâtre et les dates des représentations. Vous devez formater les informations données pour créer une annonce appropriée."
      ]
    },
    {
      "cell_type": "code",
      "execution_count": 36,
      "metadata": {
        "id": "vqhEdpr-QFB6"
      },
      "outputs": [],
      "source": [
        "#Les informations de départ\n",
        "titre = \"Les Misérables\"\n",
        "date = \"24 Juillet\""
      ]
    },
    {
      "cell_type": "markdown",
      "metadata": {
        "id": "fMm4BIoiQFB6"
      },
      "source": [
        "6) a) Créez une nouvelle variable \"annonce\" qui contient le titre de la pièce et la date de la représentation en utilisant la concaténation de littéraux. Le résultat doit être : \"Les Misérables - 24 Juillet\""
      ]
    },
    {
      "cell_type": "code",
      "execution_count": 41,
      "metadata": {
        "colab": {
          "base_uri": "https://localhost:8080/"
        },
        "id": "FxEw3xpYQFB6",
        "outputId": "abeae12e-aa72-42c7-f6d6-c271b79540dd"
      },
      "outputs": [
        {
          "output_type": "stream",
          "name": "stdout",
          "text": [
            "Les Misérables - 24 Juillet\n"
          ]
        }
      ],
      "source": [
        "annonce = str(titre) + \" - \" + str(date)\n",
        "print(annonce)"
      ]
    },
    {
      "cell_type": "markdown",
      "metadata": {
        "id": "L5CDPVN4QFB6"
      },
      "source": [
        "6) b) La pancarte ne peut afficher que 20 caractères. Tronquez la chaîne annonce pour qu'elle ne contienne que les 20 premiers caractères et stockez le résultat dans une nouvelle variable annonce_tronquee."
      ]
    },
    {
      "cell_type": "code",
      "execution_count": 42,
      "metadata": {
        "colab": {
          "base_uri": "https://localhost:8080/"
        },
        "id": "HBgN3_07QFB7",
        "outputId": "9c1915a3-869b-4696-a0c9-aa63aacc5843"
      },
      "outputs": [
        {
          "output_type": "stream",
          "name": "stdout",
          "text": [
            "Les Misérables - 24 \n"
          ]
        }
      ],
      "source": [
        "annonce_tronquee = annonce[:20]\n",
        "print(annonce_tronquee)"
      ]
    },
    {
      "cell_type": "markdown",
      "metadata": {
        "id": "vQGsNLPKQFB7"
      },
      "source": [
        "6. c) Pour des raisons esthétiques, le théâtre a décidé de ne pas utiliser d'espaces. Remplacez tous les espaces dans annonce_tronquee par des underscores (_) et stockez le résultat dans une nouvelle variable annonce_formatee."
      ]
    },
    {
      "cell_type": "code",
      "execution_count": 44,
      "metadata": {
        "colab": {
          "base_uri": "https://localhost:8080/"
        },
        "id": "6hDfHiCCQFB7",
        "outputId": "d788ef58-5f13-4ffb-a3f9-ad8d1f34a7d4"
      },
      "outputs": [
        {
          "output_type": "stream",
          "name": "stdout",
          "text": [
            "Les_Misérables_-_24_\n"
          ]
        }
      ],
      "source": [
        "annonce_formatee = annonce_tronquee.replace(\" \",\"_\")\n",
        "print(annonce_formatee)"
      ]
    },
    {
      "cell_type": "markdown",
      "metadata": {
        "id": "u0RDipJbQFB7"
      },
      "source": [
        "6) d) La date de la représentation a été changée du \"24 Juillet\" au \"25 Juillet\". Mettez à jour la variable annonce_formatee pour refléter ce changement."
      ]
    },
    {
      "cell_type": "code",
      "execution_count": 46,
      "metadata": {
        "colab": {
          "base_uri": "https://localhost:8080/"
        },
        "id": "gJz0n8VRQFB8",
        "outputId": "40c01b87-c2d7-4a2a-fcaf-edfb0c99376e"
      },
      "outputs": [
        {
          "output_type": "stream",
          "name": "stdout",
          "text": [
            "Les_Misérables_-_25_\n"
          ]
        }
      ],
      "source": [
        "annonce_formatee = annonce_formatee.replace(\"24\",\"25\")\n",
        "print(annonce_formatee)"
      ]
    },
    {
      "cell_type": "markdown",
      "metadata": {
        "id": "JpexKsF0QFB8"
      },
      "source": [
        "6) e) Imprimez la longueur de la chaîne finale annonce_formatee afin de s'assure qu'elle fasse toujours 20 caractères"
      ]
    },
    {
      "cell_type": "code",
      "execution_count": 47,
      "metadata": {
        "colab": {
          "base_uri": "https://localhost:8080/"
        },
        "id": "LlFhWP1SQFB8",
        "outputId": "f7569fb0-dc89-44f7-be4e-6011cfbcaa1c"
      },
      "outputs": [
        {
          "output_type": "stream",
          "name": "stdout",
          "text": [
            "20\n"
          ]
        }
      ],
      "source": [
        "print(len(annonce_formatee))"
      ]
    }
  ],
  "metadata": {
    "kernelspec": {
      "display_name": "Python [conda env:base] *",
      "language": "python",
      "name": "conda-base-py"
    },
    "language_info": {
      "codemirror_mode": {
        "name": "ipython",
        "version": 3
      },
      "file_extension": ".py",
      "mimetype": "text/x-python",
      "name": "python",
      "nbconvert_exporter": "python",
      "pygments_lexer": "ipython3",
      "version": "3.12.7"
    },
    "colab": {
      "provenance": [],
      "include_colab_link": true
    }
  },
  "nbformat": 4,
  "nbformat_minor": 0
}