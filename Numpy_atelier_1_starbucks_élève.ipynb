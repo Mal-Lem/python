{
  "cells": [
    {
      "cell_type": "markdown",
      "metadata": {
        "id": "view-in-github",
        "colab_type": "text"
      },
      "source": [
        "<a href=\"https://colab.research.google.com/github/Mal-Lem/python/blob/main/Numpy_atelier_1_starbucks_%C3%A9l%C3%A8ve.ipynb\" target=\"_parent\"><img src=\"https://colab.research.google.com/assets/colab-badge.svg\" alt=\"Open In Colab\"/></a>"
      ]
    },
    {
      "cell_type": "markdown",
      "id": "23e21ae2",
      "metadata": {
        "id": "23e21ae2"
      },
      "source": [
        "<h1> Contexte </h1>\n",
        "\n",
        "1) Contexte :\n",
        "Starbucks est une chaîne de cafés américaine fondée à Seattle. Elle propose à la fois des boissons et de la nourriture.\n",
        "\n",
        "2) Contenu :\n",
        "Ce jeu de données contient les informations nutritionnelles des produits alimentaires et des boissons proposés par Starbucks. Toutes les informations nutritionnelles pour les boissons correspondent à une portion de 12 oz (soit environ une canette de soda de 33 centilitres)\n",
        "\n",
        "\n",
        "<h1> Les étapes à suivre </h1>\n",
        "\n",
        "<b> Import des données </b>\n",
        "- utilisez genfromtxt pour importer les données du fichier starbucks-menu-nutrition-drinks.csv. Veillez bien à définir un type de données ainsi qu'un encodage pour importer correctement les données textuelles\n",
        "\n",
        "aide : si vous obteniez un préfixe 'b' sur chaque valeur, pour pouvez tester le type 'None' pour résoudre le problème.\n",
        "\n",
        "<b> Data Cleaning</b>\n",
        "- Les données manquantes ont été symbolisées par des \"-\". Remplacez ces valeurs par des valeurs nulles (nan)\n",
        "- Nous allons séparer les différents types de données. \"header\" contiendra les entête de colonne, \"drinks\" le nom des boissons et \"data\" les données numériques (veillez à bien définir le type de ce dernier)\n",
        "- Certaines boisson n'ont aucune donnée numériques. A l'aide de la méthode np.isnan(...).all(...), calculez la part des boissons sans donnée.\n",
        "- Filtrez les array  \"drinks\" et \"data\" pour ne garder que les boissons ayant des données\n",
        "\n",
        "<b> Analyse des données </b>\n",
        "\n",
        "- Calculez la moyenne des calories par boisson\n",
        "- Calculez la médiane des protéines\n",
        "- Calculez le maximum et le minimum des lipides (fat)\n",
        "- idenfiez la boisson avec le maximum de calories (nom de la boisson + nombre de calories)\n",
        "- Identifiez la boisson avec le minimum de calories (nom de la boisson + nombre de calories)\n",
        "\n",
        "<b> Data modeling </b>\n",
        "\n",
        "Afin de simplifier la lecture et l'analyse des boissons, nous souhaitons créer un \"NutriScore\" permettant d'indiquer rapidement le niveau de calorie d'une boisson :\n",
        "- de 0 à 100 calories, la boisson aura le niveau 1\n",
        "- de 100 à 200 calories, niveau 2\n",
        "- de 200 à 300 calories, niveau 3\n",
        "- 300 et plus, niveau 4\n",
        "\n",
        "Intructions :\n",
        "- Isolez la colonne des calories dans la variable \"calories\"\n",
        "- A l'aide de la méthode \"np.zeros\" créez un tableau ayant la même forme que \"calories\" dans la variable \"niveaux_calories\"\n",
        "- Effectuez une série de filtres pour remplacer les valeurs de \"niveaux_calories\" avec les valeur 1,2,3 ou 4, en fonction du niveau de calories des boissons\n",
        "- Une fois cela effectué, utilisez le tableau \"niveaux_calories\" pour filtrer sur les boissons les moins caloriques (nutriscore 1).\n",
        "- Calculez la moyenne de calories pour les boissons ayant le nutriscore 1"
      ]
    },
    {
      "cell_type": "markdown",
      "id": "e608f6a1",
      "metadata": {
        "id": "e608f6a1"
      },
      "source": [
        "<h1> Import des données </h1>"
      ]
    },
    {
      "cell_type": "code",
      "execution_count": 93,
      "id": "fd6b2226",
      "metadata": {
        "colab": {
          "base_uri": "https://localhost:8080/"
        },
        "id": "fd6b2226",
        "outputId": "0e567d94-7e0a-4094-c189-59fcfcf89ced"
      },
      "outputs": [
        {
          "output_type": "execute_result",
          "data": {
            "text/plain": [
              "array([['Drink', 'Calories', 'Fat (g)', ..., 'Fiber (g)', 'Protein',\n",
              "        'Sodium'],\n",
              "       ['Cool Lime Starbucks Refreshers Beverage', '45', '0', ..., '0',\n",
              "        '0', '10'],\n",
              "       ['Ombré Pink Drink', '-', '-', ..., '-', '-', '-'],\n",
              "       ...,\n",
              "       ['Ginger Ale', '-', '-', ..., '-', '-', '-'],\n",
              "       ['Lemon Ale', '-', '-', ..., '-', '-', '-'],\n",
              "       ['Orange Cream Soda', '-', '-', ..., '-', '-', '-']], dtype='<U62')"
            ]
          },
          "metadata": {},
          "execution_count": 93
        }
      ],
      "source": [
        "import numpy as np\n",
        "#import pandas as pd\n",
        "\n",
        "url = ('/content/starbucks-menu-nutrition-drinks.csv')\n",
        "\n",
        "#data = pd.read_csv(url)\n",
        "#data.head()\n",
        "Jdata = np.genfromtxt(url, delimiter = ',', dtype = None, encoding = 'utf-8')\n",
        "Jdata\n"
      ]
    },
    {
      "cell_type": "markdown",
      "id": "538a8c41",
      "metadata": {
        "id": "538a8c41"
      },
      "source": [
        "<h1> Cleaning des données </h1>\n",
        "\n"
      ]
    },
    {
      "cell_type": "markdown",
      "source": [
        "**Remplacez les valeurs manquantes par des valeurs nulles (nan)**"
      ],
      "metadata": {
        "id": "1cPTxXdNGuF2"
      },
      "id": "1cPTxXdNGuF2"
    },
    {
      "cell_type": "code",
      "source": [
        "\n",
        "Jdata[Jdata == '-'] = np.nan\n",
        "Jdata"
      ],
      "metadata": {
        "colab": {
          "base_uri": "https://localhost:8080/"
        },
        "id": "DooBroGKGixO",
        "outputId": "46a7c9a6-7166-44a0-df0c-b1c559711cab"
      },
      "id": "DooBroGKGixO",
      "execution_count": 94,
      "outputs": [
        {
          "output_type": "execute_result",
          "data": {
            "text/plain": [
              "array([['Drink', 'Calories', 'Fat (g)', ..., 'Fiber (g)', 'Protein',\n",
              "        'Sodium'],\n",
              "       ['Cool Lime Starbucks Refreshers Beverage', '45', '0', ..., '0',\n",
              "        '0', '10'],\n",
              "       ['Ombré Pink Drink', 'nan', 'nan', ..., 'nan', 'nan', 'nan'],\n",
              "       ...,\n",
              "       ['Ginger Ale', 'nan', 'nan', ..., 'nan', 'nan', 'nan'],\n",
              "       ['Lemon Ale', 'nan', 'nan', ..., 'nan', 'nan', 'nan'],\n",
              "       ['Orange Cream Soda', 'nan', 'nan', ..., 'nan', 'nan', 'nan']],\n",
              "      dtype='<U62')"
            ]
          },
          "metadata": {},
          "execution_count": 94
        }
      ]
    },
    {
      "cell_type": "markdown",
      "source": [
        "<b> Séparation des valeurs textuelles et des valeurs numériques"
      ],
      "metadata": {
        "id": "UTnZbXEQG3pF"
      },
      "id": "UTnZbXEQG3pF"
    },
    {
      "cell_type": "code",
      "execution_count": 95,
      "id": "1cc1f1d4",
      "metadata": {
        "colab": {
          "base_uri": "https://localhost:8080/"
        },
        "id": "1cc1f1d4",
        "outputId": "f070068f-9e3f-4c83-9f02-8a4e888f318d"
      },
      "outputs": [
        {
          "output_type": "execute_result",
          "data": {
            "text/plain": [
              "1"
            ]
          },
          "metadata": {},
          "execution_count": 95
        }
      ],
      "source": [
        "header = Jdata[0]\n",
        "drinks = Jdata[1:,0]\n",
        "drinks\n",
        "calorie_index = np.where(header == 'Calories')[0][0]\n",
        "calorie_index"
      ]
    },
    {
      "cell_type": "code",
      "source": [
        "data = np.array([list(row)[1:] for row in Jdata[1:]],dtype=float)\n",
        "data"
      ],
      "metadata": {
        "colab": {
          "base_uri": "https://localhost:8080/"
        },
        "id": "DHh8a5uTMJNb",
        "outputId": "563271cc-4494-40e0-f9b7-78632f6a2707"
      },
      "id": "DHh8a5uTMJNb",
      "execution_count": 96,
      "outputs": [
        {
          "output_type": "execute_result",
          "data": {
            "text/plain": [
              "array([[45.,  0., 11.,  0.,  0., 10.],\n",
              "       [nan, nan, nan, nan, nan, nan],\n",
              "       [nan, nan, nan, nan, nan, nan],\n",
              "       ...,\n",
              "       [nan, nan, nan, nan, nan, nan],\n",
              "       [nan, nan, nan, nan, nan, nan],\n",
              "       [nan, nan, nan, nan, nan, nan]])"
            ]
          },
          "metadata": {},
          "execution_count": 96
        }
      ]
    },
    {
      "cell_type": "markdown",
      "source": [
        "<b> Calcul la part des boisons sans données"
      ],
      "metadata": {
        "id": "RBZvt-jMNQqg"
      },
      "id": "RBZvt-jMNQqg"
    },
    {
      "cell_type": "code",
      "source": [
        "mask = ~np.isnan(data).all(axis=1)\n",
        "mask"
      ],
      "metadata": {
        "colab": {
          "base_uri": "https://localhost:8080/"
        },
        "id": "9fsNJFszNQO7",
        "outputId": "631e192b-56ae-41d2-ae85-ab4cad11adfe"
      },
      "id": "9fsNJFszNQO7",
      "execution_count": 97,
      "outputs": [
        {
          "output_type": "execute_result",
          "data": {
            "text/plain": [
              "array([ True, False, False,  True,  True, False, False, False,  True,\n",
              "        True, False,  True,  True,  True, False, False, False, False,\n",
              "        True,  True,  True,  True,  True,  True,  True,  True,  True,\n",
              "        True,  True,  True,  True,  True,  True,  True,  True,  True,\n",
              "        True,  True,  True,  True,  True,  True, False, False, False,\n",
              "       False, False, False, False, False, False, False, False, False,\n",
              "       False,  True,  True, False, False, False, False, False, False,\n",
              "       False, False, False, False, False,  True,  True, False,  True,\n",
              "        True,  True, False, False, False,  True,  True,  True,  True,\n",
              "        True,  True,  True,  True,  True,  True,  True,  True,  True,\n",
              "       False, False, False, False,  True, False,  True, False,  True,\n",
              "        True,  True, False,  True,  True,  True,  True,  True, False,\n",
              "        True,  True,  True, False,  True,  True,  True,  True, False,\n",
              "        True,  True, False, False, False,  True, False,  True,  True,\n",
              "        True, False,  True,  True, False, False,  True,  True,  True,\n",
              "        True, False,  True,  True,  True, False, False, False, False,\n",
              "       False, False,  True, False, False, False,  True, False, False,\n",
              "       False, False, False, False, False,  True,  True, False, False,\n",
              "       False, False, False, False, False, False,  True, False, False,\n",
              "        True,  True,  True, False, False, False])"
            ]
          },
          "metadata": {},
          "execution_count": 97
        }
      ]
    },
    {
      "cell_type": "code",
      "source": [
        "filt_drinks = drinks[mask]\n",
        "filt_drinks"
      ],
      "metadata": {
        "colab": {
          "base_uri": "https://localhost:8080/"
        },
        "id": "yLoLaGMWSZA2",
        "outputId": "4d23b21a-06d3-45c1-a0d5-09e37b586c92"
      },
      "id": "yLoLaGMWSZA2",
      "execution_count": 98,
      "outputs": [
        {
          "output_type": "execute_result",
          "data": {
            "text/plain": [
              "array(['Cool Lime Starbucks Refreshers Beverage',\n",
              "       'Strawberry Acai Starbucks Refreshers Beverage',\n",
              "       'Very Berry Hibiscus Starbucks Refreshers Beverage',\n",
              "       'Evolution Fresh Organic Ginger Limeade', 'Iced Coffee',\n",
              "       'Iced Espresso Classics - Vanilla Latte',\n",
              "       'Iced Espresso Classics - Caffe Mocha',\n",
              "       'Iced Espresso Classics - Caramel Macchiato', 'Shaken Sweet Tea',\n",
              "       'Tazo Bottled Berry Blossom White', 'Tazo Bottled Black Mango',\n",
              "       'Tazo Bottled Black with Lemon', 'Tazo Bottled Brambleberry',\n",
              "       'Tazo Bottled Giant Peach', 'Tazo Bottled Iced Passion',\n",
              "       'Tazo Bottled Lemon Ginger', 'Tazo Bottled Organic Black Lemonade',\n",
              "       'Tazo Bottled Organic Iced Black Tea',\n",
              "       'Tazo Bottled Organic Iced Green Tea',\n",
              "       'Tazo Bottled Plum Pomegranate', 'Tazo Bottled Tazoberry',\n",
              "       'Tazo Bottled White Cranberry', 'Teavana Shaken Iced Black Tea',\n",
              "       'Teavana Shaken Iced Black Tea Lemonade',\n",
              "       'Teavana Shaken Iced Green Tea',\n",
              "       'Teavana Shaken Iced Green Tea Lemonade',\n",
              "       'Teavana Shaken Iced Passion Tango Tea',\n",
              "       'Teavana Shaken Iced Passion Tango Tea Lemonade',\n",
              "       'Teavana Shaken Iced Peach Green Tea',\n",
              "       'Iced Espresso Classics - Vanilla Latte',\n",
              "       'Iced Espresso Classics - Caffe Mocha',\n",
              "       'Iced Espresso Classics - Caramel Macchiato',\n",
              "       'Starbucks Refreshers Raspberry Pomegranate',\n",
              "       'Starbucks Refreshers Strawberry Lemonade',\n",
              "       'Starbucks Doubleshot Protein Dark Chocolate',\n",
              "       'Starbucks Doubleshot Protein Vanilla',\n",
              "       'Starbucks Iced Coffee Caramel',\n",
              "       'Starbucks Iced Coffee Light Sweetened',\n",
              "       'Starbucks Iced Coffee Unsweetened',\n",
              "       'Tazo Bottled Berry Blossom White', 'Tazo Bottled Black Mango',\n",
              "       'Tazo Bottled Black with Lemon', 'Tazo Bottled Brambleberry',\n",
              "       'Tazo Bottled Giant Peach', 'Tazo Bottled Iced Passion',\n",
              "       'Tazo Bottled Lemon Ginger', 'Tazo Bottled Organic Black Lemonade',\n",
              "       'Tazo Bottled Organic Iced Black Tea',\n",
              "       'Tazo Bottled Organic Iced Green Tea',\n",
              "       'Tazo Bottled Plum Pomegranate', 'Tazo Bottled Tazoberry',\n",
              "       'Tazo Bottled White Cranberry', 'Blonde Roast',\n",
              "       'Clover Brewed Coffee', 'Decaf Pike Place Roast',\n",
              "       'Featured Dark Roast', 'Iced Coffee', 'Nariño 70 Cold Brew',\n",
              "       'Nariño 70 Cold Brew with Milk', 'Nitro Cold Brew',\n",
              "       'Nitro Cold Brew with Sweet Cream', 'Pike Place Roast',\n",
              "       'Vanilla Sweet Cream Cold Brew', 'Hot Chocolate',\n",
              "       'Starbucks Signature Hot Chocolate', 'Caffè Latte', 'Caffè Mocha',\n",
              "       'Cappuccino', 'Caramel Macchiato', 'Cinnamon Dolce Latte',\n",
              "       'Coconutmilk Mocha Macchiato', 'Flat White', 'Iced Caffè Latte',\n",
              "       'Iced Caffè Mocha', 'Iced Caramel Macchiato',\n",
              "       'Iced Cinnamon Dolce Latte', 'Iced Coconutmilk Mocha Macchiato',\n",
              "       'Iced Vanilla Latte', 'Iced White Chocolate Mocha',\n",
              "       'Latte Macchiato', 'Latte Macchiato',\n",
              "       'Starbucks Doubleshot on Ice Beverage', 'Vanilla Latte',\n",
              "       'White Chocolate Mocha',\n",
              "       'Cinnamon Dolce Frappuccino Blended Coffee',\n",
              "       'Coffee Light Frappuccino Blended Coffee',\n",
              "       'Mocha Frappuccino Blended Coffee',\n",
              "       'Mocha Light Frappuccino Blended Coffee', 'Cinnamon Dolce Crème',\n",
              "       'Vanilla Crème', 'Chocolate Smoothie', 'Strawberry Smoothie'],\n",
              "      dtype='<U62')"
            ]
          },
          "metadata": {},
          "execution_count": 98
        }
      ]
    },
    {
      "cell_type": "code",
      "source": [
        "filt_data = data[mask]\n",
        "filt_data"
      ],
      "metadata": {
        "colab": {
          "base_uri": "https://localhost:8080/"
        },
        "id": "O6dsJ8WPSe0N",
        "outputId": "2029a23f-9982-465b-fe6d-641729f2fc3b"
      },
      "id": "O6dsJ8WPSe0N",
      "execution_count": 99,
      "outputs": [
        {
          "output_type": "execute_result",
          "data": {
            "text/plain": [
              "array([[ 45. ,   0. ,  11. ,   0. ,   0. ,  10. ],\n",
              "       [ 80. ,   0. ,  18. ,   1. ,   0. ,  10. ],\n",
              "       [ 60. ,   0. ,  14. ,   1. ,   0. ,  10. ],\n",
              "       [110. ,   0. ,  28. ,   0. ,   0. ,   5. ],\n",
              "       [  0. ,   0. ,   0. ,   0. ,   0. ,   0. ],\n",
              "       [130. ,   2.5,  21. ,   0. ,   5. ,  65. ],\n",
              "       [140. ,   2.5,  23. ,   0. ,   5. ,  90. ],\n",
              "       [130. ,   2.5,  21. ,   0. ,   5. ,  65. ],\n",
              "       [ 80. ,   0. ,  19. ,   0. ,   0. ,  10. ],\n",
              "       [ 60. ,   0. ,  15. ,   0. ,   0. ,  10. ],\n",
              "       [150. ,   0. ,  38. ,   0. ,   0. ,  15. ],\n",
              "       [140. ,   0. ,  35. ,   0. ,   0. ,  10. ],\n",
              "       [140. ,   0. ,  35. ,   0. ,   0. ,  15. ],\n",
              "       [150. ,   0. ,  37. ,   0. ,   0. ,  15. ],\n",
              "       [ 70. ,   0. ,  17. ,   0. ,   0. ,  10. ],\n",
              "       [120. ,   0. ,  31. ,   0. ,   0. ,  10. ],\n",
              "       [140. ,   0. ,  35. ,   0. ,   0. ,  10. ],\n",
              "       [ 60. ,   0. ,  15. ,   0. ,   0. ,  10. ],\n",
              "       [120. ,   0. ,  31. ,   0. ,   0. ,  10. ],\n",
              "       [140. ,   0. ,  35. ,   0. ,   0. ,  10. ],\n",
              "       [150. ,   0. ,  38. ,   0. ,   0. ,  15. ],\n",
              "       [140. ,   0. ,  35. ,   0. ,   0. ,  10. ],\n",
              "       [ 30. ,   0. ,   8. ,   0. ,   0. ,   5. ],\n",
              "       [ 70. ,   0. ,  17. ,   0. ,   0. ,   0. ],\n",
              "       [ 30. ,   0. ,   8. ,   0. ,   0. ,   5. ],\n",
              "       [ 70. ,   0. ,  17. ,   0. ,   0. ,   5. ],\n",
              "       [ 30. ,   0. ,   8. ,   0. ,   0. ,   5. ],\n",
              "       [ 90. ,   0. ,  24. ,   0. ,   0. ,   0. ],\n",
              "       [ 60. ,   0. ,  15. ,   0. ,   0. ,   0. ],\n",
              "       [130. ,   2.5,  21. ,   0. ,   5. ,  65. ],\n",
              "       [140. ,   2.5,  23. ,   0. ,   5. ,  90. ],\n",
              "       [130. ,   2.5,  21. ,   0. ,   5. ,  65. ],\n",
              "       [ 90. ,   0. ,  27. ,   0. ,   0. ,   0. ],\n",
              "       [ 90. ,   0. ,  27. ,   0. ,   0. ,   0. ],\n",
              "       [210. ,   2.5,  33. ,   2. ,  20. , 115. ],\n",
              "       [200. ,   2.5,  34. ,   2. ,  20. , 120. ],\n",
              "       [ 60. ,   0. ,  13. ,   0. ,   1. ,   0. ],\n",
              "       [ 50. ,   0. ,  11. ,   0. ,   1. ,   0. ],\n",
              "       [ 10. ,   0. ,   2. ,   0. ,   1. ,   0. ],\n",
              "       [ 60. ,   0. ,  15. ,   0. ,   0. ,  10. ],\n",
              "       [150. ,   0. ,  38. ,   0. ,   0. ,  15. ],\n",
              "       [140. ,   0. ,  35. ,   0. ,   0. ,  10. ],\n",
              "       [140. ,   0. ,  35. ,   0. ,   0. ,  15. ],\n",
              "       [150. ,   0. ,  37. ,   0. ,   0. ,  15. ],\n",
              "       [ 70. ,   0. ,  17. ,   0. ,   0. ,  10. ],\n",
              "       [120. ,   0. ,  31. ,   0. ,   0. ,  10. ],\n",
              "       [140. ,   0. ,  35. ,   0. ,   0. ,  10. ],\n",
              "       [ 60. ,   0. ,  15. ,   0. ,   0. ,  10. ],\n",
              "       [120. ,   0. ,  31. ,   0. ,   0. ,  10. ],\n",
              "       [140. ,   0. ,  35. ,   0. ,   0. ,  10. ],\n",
              "       [150. ,   0. ,  38. ,   0. ,   0. ,  15. ],\n",
              "       [140. ,   0. ,  35. ,   0. ,   0. ,  10. ],\n",
              "       [  5. ,   0. ,   0. ,   0. ,   1. ,  10. ],\n",
              "       [ 10. ,   0. ,   0. ,   0. ,   1. ,  10. ],\n",
              "       [  5. ,   0. ,   0. ,   0. ,   1. ,  10. ],\n",
              "       [  5. ,   0. ,   0. ,   0. ,   1. ,  10. ],\n",
              "       [  5. ,   0. ,   0. ,   0. ,   0. ,   5. ],\n",
              "       [  5. ,   0. ,   0. ,   0. ,   0. ,  15. ],\n",
              "       [  0. ,   0. ,   0. ,   0. ,   0. ,   0. ],\n",
              "       [  5. ,   0. ,   0. ,   0. ,   0. ,  10. ],\n",
              "       [ 70. ,   5. ,   5. ,   0. ,   1. ,  20. ],\n",
              "       [  5. ,   0. ,   0. ,   0. ,   1. ,  10. ],\n",
              "       [110. ,   6. ,  14. ,   0. ,   1. ,  25. ],\n",
              "       [320. ,   9. ,  47. ,   4. ,  14. , 160. ],\n",
              "       [430. ,  26. ,  45. ,   5. ,  12. , 115. ],\n",
              "       [190. ,   7. ,  19. ,   0. ,  13. , 170. ],\n",
              "       [290. ,   8. ,  42. ,   4. ,  13. , 140. ],\n",
              "       [120. ,   4. ,  12. ,   0. ,   8. , 100. ],\n",
              "       [250. ,   7. ,  35. ,   0. ,  10. , 150. ],\n",
              "       [260. ,   6. ,  40. ,   0. ,  11. , 150. ],\n",
              "       [250. ,   9. ,  32. ,   0. ,  12. , 180. ],\n",
              "       [180. ,   7. ,  18. ,   0. ,  12. , 160. ],\n",
              "       [130. ,   4.5,  13. ,   0. ,   8. , 115. ],\n",
              "       [230. ,   6. ,  36. ,   4. ,   9. ,  90. ],\n",
              "       [250. ,   7. ,  37. ,   0. ,  10. , 150. ],\n",
              "       [200. ,   4. ,  34. ,   0. ,   7. ,  95. ],\n",
              "       [260. ,   9. ,  34. ,   0. ,  11. , 180. ],\n",
              "       [190. ,   4. ,  30. ,   0. ,   7. , 100. ],\n",
              "       [300. ,   8. ,  47. ,   0. ,  10. , 190. ],\n",
              "       [190. ,   7. ,  19. ,   0. ,  12. , 160. ],\n",
              "       [190. ,   7. ,  19. ,   0. ,  12. , 160. ],\n",
              "       [ 45. ,   1. ,   5. ,   0. ,   3. ,  40. ],\n",
              "       [250. ,   6. ,  37. ,   0. ,  12. , 150. ],\n",
              "       [360. ,  11. ,  53. ,   0. ,  14. , 240. ],\n",
              "       [350. ,   4.5,  64. ,   0. ,  15. ,   0. ],\n",
              "       [110. ,   0. ,  24. ,   0. ,   3. , 200. ],\n",
              "       [280. ,   2.5,  60. ,   2. ,   4. , 220. ],\n",
              "       [140. ,   0.5,  28. ,   1. ,   4. , 180. ],\n",
              "       [200. ,   6. ,  28. ,   0. ,  10. , 135. ],\n",
              "       [200. ,   6. ,  28. ,   0. ,  10. , 135. ],\n",
              "       [320. ,   5. ,  53. ,   8. ,  20. , 170. ],\n",
              "       [300. ,   2. ,  60. ,   7. ,  16. , 130. ]])"
            ]
          },
          "metadata": {},
          "execution_count": 99
        }
      ]
    },
    {
      "cell_type": "code",
      "source": [
        "print(f\"pourcentage de boissons sans donnees : {100 - mask.mean() * 100:.2f}%\")\n",
        "print(f\"nombre de boissons apres filtrage : {len(filt_drinks)}\")"
      ],
      "metadata": {
        "colab": {
          "base_uri": "https://localhost:8080/"
        },
        "id": "dgATu6mKSnt1",
        "outputId": "c0fea7f9-df81-451a-dd01-10eaa9ed158e"
      },
      "id": "dgATu6mKSnt1",
      "execution_count": 100,
      "outputs": [
        {
          "output_type": "stream",
          "name": "stdout",
          "text": [
            "pourcentage de boissons sans donnees : 48.02%\n",
            "nombre de boissons apres filtrage : 92\n"
          ]
        }
      ]
    },
    {
      "cell_type": "markdown",
      "id": "06cce98a",
      "metadata": {
        "id": "06cce98a"
      },
      "source": [
        "<h1> Analyse des données </h1>\n",
        "\n",
        "    1.Calculez la moyenne des calories par boisson\n",
        "    2.Calculez la médiane des protéines\n",
        "    3.Calculez le maximum et le minimum des lipides (fat)\n",
        "    4.idenfiez la boisson avec le maximum de calories (nom de la boisson + nombre de calories)\n",
        "    5.Identifiez la boisson avec le minimum de calories (nom de la boisson + nombre de calories)\n"
      ]
    },
    {
      "cell_type": "code",
      "execution_count": 101,
      "id": "f6040f2f",
      "metadata": {
        "colab": {
          "base_uri": "https://localhost:8080/"
        },
        "id": "f6040f2f",
        "outputId": "4c8198b5-7759-433b-c813-049987b5319f"
      },
      "outputs": [
        {
          "output_type": "stream",
          "name": "stdout",
          "text": [
            "la moyenne des calories par boisson est 2.3369565217391304 \n"
          ]
        }
      ],
      "source": [
        "#print(header)\n",
        "moyenne_calories = filt_data[:,1].mean()\n",
        "print(f'la moyenne des calories par boisson est {moyenne_calories} ')"
      ]
    },
    {
      "cell_type": "code",
      "source": [
        "mediane_proteines = np.median(filt_data[:,5])\n",
        "print(f'la mediane des proteines est {mediane_proteines} ')"
      ],
      "metadata": {
        "colab": {
          "base_uri": "https://localhost:8080/"
        },
        "id": "lZNrH0SfTsEd",
        "outputId": "24de7371-9d45-49f4-de4c-da5c9b1f04da"
      },
      "id": "lZNrH0SfTsEd",
      "execution_count": 102,
      "outputs": [
        {
          "output_type": "stream",
          "name": "stdout",
          "text": [
            "la mediane des proteines est 15.0 \n"
          ]
        }
      ]
    },
    {
      "cell_type": "code",
      "source": [
        "maximum_lipides = np.max(filt_data[:,2])\n",
        "print(f'le maximum des lipides est {maximum_lipides} ')\n",
        "\n",
        "minimum_lipides = np.min(filt_data[:,2])\n",
        "print(f'le minimum des lipides est {minimum_lipides} ')"
      ],
      "metadata": {
        "colab": {
          "base_uri": "https://localhost:8080/"
        },
        "id": "WjCbSRUTVPsk",
        "outputId": "44e17401-35fe-4882-cf84-6480d7ab4da3"
      },
      "id": "WjCbSRUTVPsk",
      "execution_count": 103,
      "outputs": [
        {
          "output_type": "stream",
          "name": "stdout",
          "text": [
            "le maximum des lipides est 64.0 \n",
            "le minimum des lipides est 0.0 \n"
          ]
        }
      ]
    },
    {
      "cell_type": "code",
      "source": [
        "drink_max_calories = filt_drinks[filt_data[:,1].argmax()]\n",
        "max_calories = filt_data[:,1].max()\n",
        "print(f'la boisson avec le maximum de calories est : {drink_max_calories} avec {max_calories}')"
      ],
      "metadata": {
        "colab": {
          "base_uri": "https://localhost:8080/"
        },
        "id": "IIaVC9MeVtkI",
        "outputId": "efa4199f-2d9e-4fe3-f180-8f47a85d2df5"
      },
      "id": "IIaVC9MeVtkI",
      "execution_count": 104,
      "outputs": [
        {
          "output_type": "stream",
          "name": "stdout",
          "text": [
            "la boisson avec le maximum de calories est : Starbucks Signature Hot Chocolate avec 26.0\n"
          ]
        }
      ]
    },
    {
      "cell_type": "code",
      "source": [
        "drink_min_calories = filt_drinks[filt_data[:,1].argmin()]\n",
        "min_calories = filt_data[:,1].min()\n",
        "print(f'la boisson avec le minimum de calories est : {drink_min_calories} avec {min_calories}')"
      ],
      "metadata": {
        "colab": {
          "base_uri": "https://localhost:8080/"
        },
        "id": "JBaKWqDMWuQ9",
        "outputId": "61e7a4c7-91eb-45ff-b783-13877e347f08"
      },
      "id": "JBaKWqDMWuQ9",
      "execution_count": 105,
      "outputs": [
        {
          "output_type": "stream",
          "name": "stdout",
          "text": [
            "la boisson avec le minimum de calories est : Cool Lime Starbucks Refreshers Beverage avec 0.0\n"
          ]
        }
      ]
    },
    {
      "cell_type": "markdown",
      "id": "a72a6b0e",
      "metadata": {
        "id": "a72a6b0e"
      },
      "source": [
        "<h1> Data Modelisation </h1>\n",
        "\n",
        "    1.Isolez la colonne des calories dans la variable \"calories\"\n",
        "    2.A l'aide de la méthode \"np.zeros\" créez un tableau ayant la même forme que \"calories\" dans la variable \"niveaux_calories\"\n",
        "    3.Effectuez une série de filtres pour remplacer les valeurs de \"niveaux_calories\" avec les valeur 1,2,3 ou 4, en fonction du niveau de calories des boissons\n",
        "    4.Une fois cela effectué, utilisez le tableau \"niveaux_calories\" pour filtrer sur les boissons les moins caloriques (nutriscore 1).\n",
        "    5.Calculez la moyenne de calories pour les boissons ayant le nutriscore 1\n"
      ]
    },
    {
      "cell_type": "code",
      "execution_count": 106,
      "id": "32150c17",
      "metadata": {
        "id": "32150c17",
        "colab": {
          "base_uri": "https://localhost:8080/"
        },
        "outputId": "60f49f3a-0e41-4c01-d590-58da42de367a"
      },
      "outputs": [
        {
          "output_type": "execute_result",
          "data": {
            "text/plain": [
              "array([ 45.,  80.,  60., 110.,   0., 130., 140., 130.,  80.,  60., 150.,\n",
              "       140., 140., 150.,  70., 120., 140.,  60., 120., 140., 150., 140.,\n",
              "        30.,  70.,  30.,  70.,  30.,  90.,  60., 130., 140., 130.,  90.,\n",
              "        90., 210., 200.,  60.,  50.,  10.,  60., 150., 140., 140., 150.,\n",
              "        70., 120., 140.,  60., 120., 140., 150., 140.,   5.,  10.,   5.,\n",
              "         5.,   5.,   5.,   0.,   5.,  70.,   5., 110., 320., 430., 190.,\n",
              "       290., 120., 250., 260., 250., 180., 130., 230., 250., 200., 260.,\n",
              "       190., 300., 190., 190.,  45., 250., 360., 350., 110., 280., 140.,\n",
              "       200., 200., 320., 300.])"
            ]
          },
          "metadata": {},
          "execution_count": 106
        }
      ],
      "source": [
        "calories = filt_data[:,0]\n",
        "#calories.shape\n",
        "calories"
      ]
    },
    {
      "cell_type": "code",
      "source": [
        "niveaux_calories = np.zeros(calories.shape)\n",
        "#niveaux_calories.shape"
      ],
      "metadata": {
        "id": "JnzWMW8yX2IN"
      },
      "id": "JnzWMW8yX2IN",
      "execution_count": 107,
      "outputs": []
    },
    {
      "cell_type": "code",
      "source": [
        "niveaux_calories[(calories >= 0) & (calories <= 100)] = 1.0\n",
        "niveaux_calories[(calories > 100) & (calories <= 200) ] = 2.0\n",
        "niveaux_calories[(calories > 200) & (calories <= 300)] = 3.0\n",
        "niveaux_calories[calories > 300] = 4.0\n",
        "mask_nutriscore1 = niveaux_calories == 1.0"
      ],
      "metadata": {
        "id": "hQ-qzqWQYnrZ"
      },
      "id": "hQ-qzqWQYnrZ",
      "execution_count": 108,
      "outputs": []
    },
    {
      "cell_type": "code",
      "source": [
        "print(np.unique(niveaux_calories))\n",
        "print(niveaux_calories[:10])\n",
        "print(mask_nutriscore1.sum())\n",
        "print(mask_nutriscore1[:10])\n",
        "print(filt_data.shape)\n",
        "print(filt_data[:5])\n"
      ],
      "metadata": {
        "colab": {
          "base_uri": "https://localhost:8080/"
        },
        "id": "Hbm0ofS0goCI",
        "outputId": "04ccf709-ffef-4b3b-e79e-fd3ae7b00acc"
      },
      "id": "Hbm0ofS0goCI",
      "execution_count": 109,
      "outputs": [
        {
          "output_type": "stream",
          "name": "stdout",
          "text": [
            "[1. 2. 3. 4.]\n",
            "[1. 1. 1. 2. 1. 2. 2. 2. 1. 1.]\n",
            "34\n",
            "[ True  True  True False  True False False False  True  True]\n",
            "(92, 6)\n",
            "[[ 45.   0.  11.   0.   0.  10.]\n",
            " [ 80.   0.  18.   1.   0.  10.]\n",
            " [ 60.   0.  14.   1.   0.  10.]\n",
            " [110.   0.  28.   0.   0.   5.]\n",
            " [  0.   0.   0.   0.   0.   0.]]\n"
          ]
        }
      ]
    },
    {
      "cell_type": "code",
      "source": [
        "nutriscore1 = filt_data[mask_nutriscore1]\n",
        "\n",
        "nutriscore1"
      ],
      "metadata": {
        "colab": {
          "base_uri": "https://localhost:8080/"
        },
        "id": "y934EMbFZVag",
        "outputId": "8acc61ae-9a66-44c7-c65e-969cd7df51b6"
      },
      "id": "y934EMbFZVag",
      "execution_count": 110,
      "outputs": [
        {
          "output_type": "execute_result",
          "data": {
            "text/plain": [
              "array([[45.,  0., 11.,  0.,  0., 10.],\n",
              "       [80.,  0., 18.,  1.,  0., 10.],\n",
              "       [60.,  0., 14.,  1.,  0., 10.],\n",
              "       [ 0.,  0.,  0.,  0.,  0.,  0.],\n",
              "       [80.,  0., 19.,  0.,  0., 10.],\n",
              "       [60.,  0., 15.,  0.,  0., 10.],\n",
              "       [70.,  0., 17.,  0.,  0., 10.],\n",
              "       [60.,  0., 15.,  0.,  0., 10.],\n",
              "       [30.,  0.,  8.,  0.,  0.,  5.],\n",
              "       [70.,  0., 17.,  0.,  0.,  0.],\n",
              "       [30.,  0.,  8.,  0.,  0.,  5.],\n",
              "       [70.,  0., 17.,  0.,  0.,  5.],\n",
              "       [30.,  0.,  8.,  0.,  0.,  5.],\n",
              "       [90.,  0., 24.,  0.,  0.,  0.],\n",
              "       [60.,  0., 15.,  0.,  0.,  0.],\n",
              "       [90.,  0., 27.,  0.,  0.,  0.],\n",
              "       [90.,  0., 27.,  0.,  0.,  0.],\n",
              "       [60.,  0., 13.,  0.,  1.,  0.],\n",
              "       [50.,  0., 11.,  0.,  1.,  0.],\n",
              "       [10.,  0.,  2.,  0.,  1.,  0.],\n",
              "       [60.,  0., 15.,  0.,  0., 10.],\n",
              "       [70.,  0., 17.,  0.,  0., 10.],\n",
              "       [60.,  0., 15.,  0.,  0., 10.],\n",
              "       [ 5.,  0.,  0.,  0.,  1., 10.],\n",
              "       [10.,  0.,  0.,  0.,  1., 10.],\n",
              "       [ 5.,  0.,  0.,  0.,  1., 10.],\n",
              "       [ 5.,  0.,  0.,  0.,  1., 10.],\n",
              "       [ 5.,  0.,  0.,  0.,  0.,  5.],\n",
              "       [ 5.,  0.,  0.,  0.,  0., 15.],\n",
              "       [ 0.,  0.,  0.,  0.,  0.,  0.],\n",
              "       [ 5.,  0.,  0.,  0.,  0., 10.],\n",
              "       [70.,  5.,  5.,  0.,  1., 20.],\n",
              "       [ 5.,  0.,  0.,  0.,  1., 10.],\n",
              "       [45.,  1.,  5.,  0.,  3., 40.]])"
            ]
          },
          "metadata": {},
          "execution_count": 110
        }
      ]
    },
    {
      "cell_type": "code",
      "source": [
        "moyenne_calories_nutriscore1 = nutriscore1[:,0].mean()\n",
        "print(f'la moyenne de calories pour les boissons ayant le nutriscore 1 est {moyenne_calories_nutriscore1}')"
      ],
      "metadata": {
        "colab": {
          "base_uri": "https://localhost:8080/"
        },
        "id": "vlGwkECfajgB",
        "outputId": "bd06ae52-7e38-4afc-b5ce-c65772e016e5"
      },
      "id": "vlGwkECfajgB",
      "execution_count": 111,
      "outputs": [
        {
          "output_type": "stream",
          "name": "stdout",
          "text": [
            "la moyenne de calories pour les boissons ayant le nutriscore 1 est 43.6764705882353\n"
          ]
        }
      ]
    }
  ],
  "metadata": {
    "kernelspec": {
      "display_name": "Python 3 (ipykernel)",
      "language": "python",
      "name": "python3"
    },
    "language_info": {
      "codemirror_mode": {
        "name": "ipython",
        "version": 3
      },
      "file_extension": ".py",
      "mimetype": "text/x-python",
      "name": "python",
      "nbconvert_exporter": "python",
      "pygments_lexer": "ipython3",
      "version": "3.11.5"
    },
    "colab": {
      "provenance": [],
      "include_colab_link": true
    }
  },
  "nbformat": 4,
  "nbformat_minor": 5
}